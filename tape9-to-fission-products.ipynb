{
 "cells": [
  {
   "cell_type": "code",
   "execution_count": 3,
   "metadata": {
    "collapsed": false
   },
   "outputs": [],
   "source": [
    "import os\n",
    "import json\n",
    "\n",
    "from pyne import nucname\n",
    "from pyne import origen22"
   ]
  },
  {
   "cell_type": "code",
   "execution_count": 4,
   "metadata": {
    "collapsed": true
   },
   "outputs": [],
   "source": [
    "fname = os.path.expanduser('~/origen22/libs/pwru50.lib')\n",
    "tape9 = origen22.parse_tape9(fname)"
   ]
  },
  {
   "cell_type": "code",
   "execution_count": 42,
   "metadata": {
    "collapsed": false
   },
   "outputs": [],
   "source": [
    "# \n",
    "# Note that the fission product yields sum to a little more than 2.\n",
    "# We *are* splitting atoms\n",
    "#\n",
    "fpyields = {}\n",
    "for key, val in tape9[221].items():\n",
    "    if not key.endswith('_fiss_yield'):\n",
    "        continue\n",
    "    fromnuc, *_ = key.partition('_')\n",
    "    yields = {}\n",
    "    for k, v in val.items():\n",
    "        if v == 0.0:\n",
    "            continue\n",
    "        tonuc = nucname.name(nucname.zzaaam_to_id(int(k)))\n",
    "        yields[tonuc] = v / 100  # origen yields are in percent\n",
    "    fpyields[fromnuc] = yields"
   ]
  },
  {
   "cell_type": "code",
   "execution_count": 47,
   "metadata": {
    "collapsed": false
   },
   "outputs": [
    {
     "data": {
      "text/plain": [
       "[('CF249', 2.0001363056536765),\n",
       " ('CM245', 2.0001363056536765),\n",
       " ('PU239', 2.0004615846830625),\n",
       " ('PU241', 2.0000758393700173),\n",
       " ('TH232', 2.0001856738858752),\n",
       " ('U233', 2.0005001730550487),\n",
       " ('U235', 2.000093275526821),\n",
       " ('U238', 2.0005318962861987)]"
      ]
     },
     "execution_count": 47,
     "metadata": {},
     "output_type": "execute_result"
    }
   ],
   "source": [
    "sorted([(k, sum(v.values())) for k, v in fpyields.items()])"
   ]
  },
  {
   "cell_type": "code",
   "execution_count": 49,
   "metadata": {
    "collapsed": false
   },
   "outputs": [],
   "source": [
    "with open('fission_products.json', 'w') as f:\n",
    "    json.dump(fpyields, f, sort_keys=True)"
   ]
  },
  {
   "cell_type": "code",
   "execution_count": null,
   "metadata": {
    "collapsed": true
   },
   "outputs": [],
   "source": []
  }
 ],
 "metadata": {
  "kernelspec": {
   "display_name": "Python 3",
   "language": "python",
   "name": "python3"
  },
  "language_info": {
   "codemirror_mode": {
    "name": "ipython",
    "version": 3
   },
   "file_extension": ".py",
   "mimetype": "text/x-python",
   "name": "python",
   "nbconvert_exporter": "python",
   "pygments_lexer": "ipython3",
   "version": "3.5.3"
  }
 },
 "nbformat": 4,
 "nbformat_minor": 2
}
