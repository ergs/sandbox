{
 "cells": [
  {
   "cell_type": "code",
   "execution_count": 6,
   "metadata": {
    "collapsed": false,
    "deletable": true,
    "editable": true
   },
   "outputs": [],
   "source": [
    "import os\n",
    "import json\n",
    "\n",
    "from pyne import nucname\n",
    "from pyne import origen22"
   ]
  },
  {
   "cell_type": "code",
   "execution_count": 7,
   "metadata": {
    "collapsed": true,
    "deletable": true,
    "editable": true
   },
   "outputs": [],
   "source": [
    "fname = os.path.expanduser('~/origen22/libs/pwru50.lib')\n",
    "tape9 = origen22.parse_tape9(fname)"
   ]
  },
  {
   "cell_type": "code",
   "execution_count": 9,
   "metadata": {
    "collapsed": false,
    "deletable": true,
    "editable": true
   },
   "outputs": [],
   "source": [
    "# \n",
    "# Note that the fission product yields sum to a little more than 2.\n",
    "# We *are* splitting atoms\n",
    "#\n",
    "fpyields = {}\n",
    "for key, val in tape9[221].items():\n",
    "    if not key.endswith('_fiss_yield'):\n",
    "        continue\n",
    "    fromnuc, *_ = key.partition('_')\n",
    "    fromnuc = nucname.name(fromnuc)\n",
    "    yields = {}\n",
    "    for k, v in val.items():\n",
    "        if v == 0.0:\n",
    "            continue\n",
    "        tonuc = nucname.name(nucname.zzaaam_to_id(int(k)))\n",
    "        yields[tonuc] = v / 100  # origen yields are in percent\n",
    "    fpyields[fromnuc] = yields"
   ]
  },
  {
   "cell_type": "code",
   "execution_count": 10,
   "metadata": {
    "collapsed": false,
    "deletable": true,
    "editable": true
   },
   "outputs": [
    {
     "data": {
      "text/plain": [
       "[('Cf249', 2.0001363056536765),\n",
       " ('Cm245', 2.0001363056536765),\n",
       " ('Pu239', 2.0004615846830629),\n",
       " ('Pu241', 2.0000758393700173),\n",
       " ('Th232', 2.0001856738858765),\n",
       " ('U233', 2.0005001730550473),\n",
       " ('U235', 2.0000932755268201),\n",
       " ('U238', 2.0005318962861969)]"
      ]
     },
     "execution_count": 10,
     "metadata": {},
     "output_type": "execute_result"
    }
   ],
   "source": [
    "sorted([(k, sum(v.values())) for k, v in fpyields.items()])"
   ]
  },
  {
   "cell_type": "code",
   "execution_count": 11,
   "metadata": {
    "collapsed": false,
    "deletable": true,
    "editable": true
   },
   "outputs": [],
   "source": [
    "with open('fission_products.json', 'w') as f:\n",
    "    json.dump(fpyields, f, sort_keys=True)"
   ]
  }
 ],
 "metadata": {
  "kernelspec": {
   "display_name": "Python 3",
   "language": "python",
   "name": "python3"
  },
  "language_info": {
   "codemirror_mode": {
    "name": "ipython",
    "version": 3
   },
   "file_extension": ".py",
   "mimetype": "text/x-python",
   "name": "python",
   "nbconvert_exporter": "python",
   "pygments_lexer": "ipython3",
   "version": "3.5.3"
  }
 },
 "nbformat": 4,
 "nbformat_minor": 2
}
