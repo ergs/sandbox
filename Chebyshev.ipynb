{
 "cells": [
  {
   "cell_type": "markdown",
   "metadata": {},
   "source": [
    "Chebyshev coefficients for $e^{-x}$ for $n=1$ from Cody, Meinardus, and Varga (table III)\n",
    "\n",
    "```\n",
    "              n = 1\n",
    "---------------------------------\n",
    "i   p_i             q_i\n",
    "---------------------------------\n",
    "0   1.0669  ( 00)   1.0000  ( 00)\n",
    "1  -1.1535  (-01)   1.7275  ( 00)\n",
    "```"
   ]
  },
  {
   "cell_type": "code",
   "execution_count": 2,
   "metadata": {
    "collapsed": false
   },
   "outputs": [
    {
     "name": "stdout",
     "output_type": "stream",
     "text": [
      "IPython console for SymPy 1.0 (Python 3.5.2-64-bit) (ground types: gmpy)\n",
      "\n",
      "These commands were executed:\n",
      ">>> from __future__ import division\n",
      ">>> from sympy import *\n",
      ">>> x, y, z, t = symbols('x y z t')\n",
      ">>> k, m, n = symbols('k m n', integer=True)\n",
      ">>> f, g, h = symbols('f g h', cls=Function)\n",
      ">>> init_printing()\n",
      "\n",
      "Documentation can be found at http://docs.sympy.org/1.0/\n"
     ]
    }
   ],
   "source": [
    "from sympy import init_session\n",
    "init_session()"
   ]
  },
  {
   "cell_type": "markdown",
   "metadata": {},
   "source": [
    "(From `Maria_Pusa2.pdf`)\n",
    "\n",
    "Remez algorithm\n",
    "\n",
    "1. Assume $\\left\\{t_i \\right\\}_{i=1}^{2k+2} \\subset [−1, 1]$ and find real polynomials $p_k$ and $q_k$ and a parameter $\\epsilon > 0$ such\n",
    "that\n",
    "$$\n",
    "\\begin{align}\n",
    "e^{\\phi(t_i)} − \\frac{p(\\phi(t_i))}{q(\\phi(t_i))} +(−1)^i\\epsilon=0,&& i=1,...,2k+2,\\\\\n",
    "\\end{align}\n",
    "$$\n",
    "where $q_{k+1} = 1$.\n",
    "\n",
    "2. Assume $r_{k,k} \\in \\pi_{k,k}$ and $\\epsilon > 0$ and find the $2k + 2$ local extreme points of the function\n",
    "$$\n",
    "E(t) = e^{\\phi(t)} - r_{k,k}(\\phi(t))\n",
    "$$\n",
    "in the interval $[−1, 1]$."
   ]
  },
  {
   "cell_type": "code",
   "execution_count": 3,
   "metadata": {
    "collapsed": false
   },
   "outputs": [
    {
     "data": {
      "image/png": "[encoded data removed]",
      "text/latex": [
       "$$\\left [ \\sqrt{\\frac{\\sqrt{5}}{8} + \\frac{5}{8}}, \\quad \\sqrt{- \\frac{\\sqrt{5}}{8} + \\frac{5}{8}}, \\quad 0, \\quad - \\sqrt{- \\frac{\\sqrt{5}}{8} + \\frac{5}{8}}, \\quad - \\sqrt{\\frac{\\sqrt{5}}{8} + \\frac{5}{8}}\\right ]$$"
      ],
      "text/plain": [
       "⎡    ________      __________          __________       ________⎤\n",
       "⎢   ╱ √5   5      ╱   √5   5          ╱   √5   5       ╱ √5   5 ⎥\n",
       "⎢  ╱  ── + ─ ,   ╱  - ── + ─ , 0, -  ╱  - ── + ─ , -  ╱  ── + ─ ⎥\n",
       "⎣╲╱   8    8   ╲╱     8    8       ╲╱     8    8    ╲╱   8    8 ⎦"
      ]
     },
     "execution_count": 3,
     "metadata": {},
     "output_type": "execute_result"
    }
   ],
   "source": [
    "[chebyshevt_root(5, i) for i in range(5)]"
   ]
  },
  {
   "cell_type": "code",
   "execution_count": 4,
   "metadata": {
    "collapsed": false
   },
   "outputs": [
    {
     "data": {
      "image/png": "[encoded data removed]",
      "text/latex": [
       "$$\\left [ 0.951056516295154, \\quad 0.587785252292473, \\quad 0, \\quad -0.587785252292473, \\quad -0.951056516295154\\right ]$$"
      ],
      "text/plain": [
       "[0.951056516295154, 0.587785252292473, 0, -0.587785252292473, -0.9510565162951\n",
       "54]"
      ]
     },
     "execution_count": 4,
     "metadata": {},
     "output_type": "execute_result"
    }
   ],
   "source": [
    "[chebyshevt_root(5, i).evalf() for i in range(5)]"
   ]
  },
  {
   "cell_type": "code",
   "execution_count": 5,
   "metadata": {
    "collapsed": false
   },
   "outputs": [
    {
     "data": {
      "image/png": "[encoded data removed]",
      "text/latex": [
       "$$16 x^{5} - 20 x^{3} + 5 x$$"
      ],
      "text/plain": [
       "    5       3      \n",
       "16⋅x  - 20⋅x  + 5⋅x"
      ]
     },
     "execution_count": 5,
     "metadata": {},
     "output_type": "execute_result"
    }
   ],
   "source": [
    "chebyshevt(5, x)"
   ]
  },
  {
   "cell_type": "code",
   "execution_count": 6,
   "metadata": {
    "collapsed": true
   },
   "outputs": [],
   "source": [
    "epsilon = symbols(\"epsilon\")\n",
    "p0, p1, q0, q1 = symbols(\"p0, p1, q0, q1\")\n",
    "i = symbols(\"i\")"
   ]
  },
  {
   "cell_type": "code",
   "execution_count": 28,
   "metadata": {
    "collapsed": false
   },
   "outputs": [
    {
     "data": {
      "image/png": "[encoded data removed]",
      "text/latex": [
       "$$- p_{0} - p_{1} t + \\left(q_{0} + q_{1} t\\right) \\left(\\left(-1\\right)^{i} \\epsilon + e^{t}\\right)$$"
      ],
      "text/plain": [
       "                         ⎛    i      t⎞\n",
       "-p₀ - p₁⋅t + (q₀ + q₁⋅t)⋅⎝(-1) ⋅ε + ℯ ⎠"
      ]
     },
     "execution_count": 28,
     "metadata": {},
     "output_type": "execute_result"
    }
   ],
   "source": [
    "expr = exp(t) - (p0 + p1*t)/(q0 + q1*t) + (-1)**i*epsilon\n",
    "expr = expr*(q0 + q1*t)\n",
    "expr = simplify(expr)\n",
    "expr"
   ]
  },
  {
   "cell_type": "code",
   "execution_count": 29,
   "metadata": {
    "collapsed": false
   },
   "outputs": [],
   "source": [
    "system = Tuple(*[expr.subs({i: j, t: chebyshevt_root(5, 4-j).evalf()}) for j in range(5)])"
   ]
  },
  {
   "cell_type": "code",
   "execution_count": 30,
   "metadata": {
    "collapsed": false
   },
   "outputs": [
    {
     "data": {
      "image/png": "[encoded data removed]",
      "text/latex": [
       "$$\\left ( - p_{0} + 0.951056516295154 p_{1} + \\left(\\epsilon + 0.386332641030547\\right) \\left(q_{0} - 0.951056516295154 q_{1}\\right), \\quad - p_{0} + 0.587785252292473 p_{1} + \\left(- \\epsilon + 0.555556340339247\\right) \\left(q_{0} - 0.587785252292473 q_{1}\\right), \\quad - p_{0} + q_{0} \\left(\\epsilon + 1\\right), \\quad - p_{0} - 0.587785252292473 p_{1} + \\left(- \\epsilon + 1.79999745730443\\right) \\left(q_{0} + 0.587785252292473 q_{1}\\right), \\quad - p_{0} - 0.951056516295154 p_{1} + \\left(\\epsilon + 2.58844294733287\\right) \\left(q_{0} + 0.951056516295154 q_{1}\\right)\\right )$$"
      ],
      "text/plain": [
       "(-p₀ + 0.951056516295154⋅p₁ + (ε + 0.386332641030547)⋅(q₀ - 0.951056516295154⋅\n",
       "q₁), -p₀ + 0.587785252292473⋅p₁ + (-ε + 0.555556340339247)⋅(q₀ - 0.58778525229\n",
       "2473⋅q₁), -p₀ + q₀⋅(ε + 1), -p₀ - 0.587785252292473⋅p₁ + (-ε + 1.7999974573044\n",
       "3)⋅(q₀ + 0.587785252292473⋅q₁), -p₀ - 0.951056516295154⋅p₁ + (ε + 2.5884429473\n",
       "3287)⋅(q₀ + 0.951056516295154⋅q₁))"
      ]
     },
     "execution_count": 30,
     "metadata": {},
     "output_type": "execute_result"
    }
   ],
   "source": [
    "system"
   ]
  },
  {
   "cell_type": "code",
   "execution_count": 33,
   "metadata": {
    "collapsed": false
   },
   "outputs": [
    {
     "data": {
      "image/png": "[encoded data removed]",
      "text/latex": [
       "$$\\left \\{ p_{0} : 0.0, \\quad p_{1} : 0.0, \\quad q_{0} : 0.0, \\quad q_{1} : 0.0\\right \\}$$"
      ],
      "text/plain": [
       "{p₀: 0.0, p₁: 0.0, q₀: 0.0, q₁: 0.0}"
      ]
     },
     "execution_count": 33,
     "metadata": {},
     "output_type": "execute_result"
    }
   ],
   "source": [
    "solve(system.subs(epsilon, 10), [p0, p1, q0, q1])"
   ]
  },
  {
   "cell_type": "code",
   "execution_count": 21,
   "metadata": {
    "collapsed": true
   },
   "outputs": [],
   "source": [
    "!say done"
   ]
  },
  {
   "cell_type": "markdown",
   "metadata": {},
   "source": [
    "Another useful resource: http://www.boost.org/doc/libs/1_35_0/libs/math/doc/sf_and_dist/html/math_toolkit/backgrounders/remez.html\n",
    "\n",
    "> The method usually adopted to solve these equations is an iterative one: we guess the value of E, solve the equations to obtain a new value for E (as well as the polynomial coefficients), then use the new value of E as the next guess. The method is repeated until E converges on a stable value.\n",
    "\n",
    "> These complications extend the running time required for the development of rational approximations quite considerably. It is often desirable to obtain a rational rather than polynomial approximation none the less: rational approximations will often match more difficult to approximate functions, to greater accuracy, and with greater efficiency, than their polynomial alternatives. For example, if we takes our previous example of an approximation to ex, we obtained 5x10-4 accuracy with an order 4 polynomial. If we move two of the unknowns into the denominator to give a pair of order 2 polynomials, and re-minimise, then the peak relative error drops to 8.7x10-5. That's a 5 fold increase in accuracy, for the same number of terms overall."
   ]
  },
  {
   "cell_type": "code",
   "execution_count": 34,
   "metadata": {
    "collapsed": false
   },
   "outputs": [],
   "source": [
    "N = symbols(\"N\")\n",
    "phi = N*(0.1309 + 0.1149*x**2 + I*0.2500*x)"
   ]
  },
  {
   "cell_type": "code",
   "execution_count": null,
   "metadata": {
    "collapsed": true
   },
   "outputs": [],
   "source": []
  }
 ],
 "metadata": {
  "kernelspec": {
   "display_name": "Python 3",
   "language": "python",
   "name": "python3"
  },
  "language_info": {
   "codemirror_mode": {
    "name": "ipython",
    "version": 3
   },
   "file_extension": ".py",
   "mimetype": "text/x-python",
   "name": "python",
   "nbconvert_exporter": "python",
   "pygments_lexer": "ipython3",
   "version": "3.5.2"
  }
 },
 "nbformat": 4,
 "nbformat_minor": 0
}
