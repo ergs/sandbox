{
 "cells": [
  {
   "cell_type": "markdown",
   "metadata": {},
   "source": [
    "chebyshev.ipynb was getting too big, so we're starting a new one"
   ]
  },
  {
   "cell_type": "code",
   "execution_count": 1,
   "metadata": {
    "collapsed": false
   },
   "outputs": [
    {
     "name": "stdout",
     "output_type": "stream",
     "text": [
      "IPython console for SymPy 1.0.1.dev (Python 3.5.2-64-bit) (ground types: gmpy)\n",
      "\n",
      "These commands were executed:\n",
      ">>> from __future__ import division\n",
      ">>> from sympy import *\n",
      ">>> x, y, z, t = symbols('x y z t')\n",
      ">>> k, m, n = symbols('k m n', integer=True)\n",
      ">>> f, g, h = symbols('f g h', cls=Function)\n",
      ">>> init_printing()\n",
      "\n",
      "Documentation can be found at http://docs.sympy.org/dev\n",
      "\n"
     ]
    }
   ],
   "source": [
    "from sympy import init_session\n",
    "init_session()\n",
    "from mpmath import mpf\n",
    "%matplotlib inline"
   ]
  },
  {
   "cell_type": "markdown",
   "metadata": {},
   "source": [
    "Now we try to mechanise the CRAM process"
   ]
  },
  {
   "cell_type": "code",
   "execution_count": 2,
   "metadata": {
    "collapsed": false
   },
   "outputs": [
    {
     "name": "stdout",
     "output_type": "stream",
     "text": [
      "115\n"
     ]
    },
    {
     "data": {
      "image/png": "[encoded data removed]",
      "text/latex": [
       "$$\\left [ -9.42477796076938, \\quad -6.28318530717959, \\quad -3.14159265358979, \\quad 0, \\quad 3.14159265358979, \\quad 6.28318530717959, \\quad 9.42477796076938, \\quad 12.5663706143592\\right ]$$"
      ],
      "text/plain": [
       "[-9.42477796076938, -6.28318530717959, -3.14159265358979, 0, 3.14159265358979,\n",
       " 6.28318530717959, 9.42477796076938, 12.5663706143592]"
      ]
     },
     "execution_count": 2,
     "metadata": {},
     "output_type": "execute_result"
    }
   ],
   "source": [
    "def bisect_roots(expr, bounds, eps=1e-7, division_cutoff=30, solver='bisect', **kwargs):\n",
    "    \"\"\"\n",
    "    Numerically find all the roots of expr in bounds via bisection\n",
    "    \n",
    "    division_cutoff is the fraction of bounds to check for roots. \n",
    "    One should expect the roots to be no more than |bounds|/division_cutoff apart.\n",
    "    \"\"\"\n",
    "    roots = []\n",
    "    intervals = [bounds]\n",
    "    var = expr.free_symbols.pop()\n",
    "    N = 0\n",
    "    while intervals:\n",
    "        N += 1\n",
    "        #print(intervals)\n",
    "        b = intervals.pop()\n",
    "        try:\n",
    "            root = nsolve(expr, b, solver=solver, **kwargs)\n",
    "        except ValueError:\n",
    "            # No root found\n",
    "            if (b[1] - b[0]) > (bounds[1] - bounds[0])/division_cutoff and sign(expr.evalf(subs={var: b[0]})) == sign(expr.evalf(subs={var: b[1]})):\n",
    "                # The bisect method will only work if the interval has alternate signs.\n",
    "                # If not, it will miss 2 roots, so try again with split intervals.\n",
    "                intervals.append([b[0], (b[0] + b[1])/2])\n",
    "                intervals.append([(b[0] + b[1])/2, b[1]])\n",
    "                continue\n",
    "        else:\n",
    "            if root not in roots:\n",
    "                roots.append(root)\n",
    "                intervals.append([b[0], root - eps])\n",
    "                intervals.append([root + eps, b[1]])\n",
    "    \n",
    "    print(N)\n",
    "    return sorted(roots)\n",
    "\n",
    "bisect_roots(sin(x), [-10, 13])"
   ]
  },
  {
   "cell_type": "code",
   "execution_count": 3,
   "metadata": {
    "collapsed": false
   },
   "outputs": [],
   "source": [
    "def nsolve_intervals(expr, bounds, division=30, **kwargs):\n",
    "    \"\"\"\n",
    "    Divide bounds into division intervals and nsolve in each one\n",
    "    \"\"\"\n",
    "    roots = []\n",
    "    L = bounds[1] - bounds[0]\n",
    "    for i in range(division):\n",
    "        interval = [bounds[0] + i*L/division, bounds[0] + (i + 1)*L/division]\n",
    "        try:\n",
    "            root = nsolve(expr, interval, solver='bisect', **kwargs)\n",
    "        except ValueError:\n",
    "            continue\n",
    "        else:\n",
    "            roots.append(root)\n",
    "            \n",
    "    return roots\n",
    "        \n",
    "#nsolve_intervals(D, [-1, 0.99])"
   ]
  },
  {
   "cell_type": "code",
   "execution_count": 4,
   "metadata": {
    "collapsed": false
   },
   "outputs": [
    {
     "data": {
      "image/png": "[encoded data removed]",
      "text/latex": [
       "$$\\left ( \\frac{p_{0} + p_{1} x + p_{2} x^{2} + p_{3} x^{3}}{q_{1} x + q_{2} x^{2} + q_{3} x^{3} + 1}, \\quad \\left ( p_{0}, \\quad p_{1}, \\quad p_{2}, \\quad p_{3}\\right ), \\quad \\left ( q_{1}, \\quad q_{2}, \\quad q_{3}\\right )\\right )$$"
      ],
      "text/plain": [
       "⎛                2       3                                ⎞\n",
       "⎜p₀ + p₁⋅x + p₂⋅x  + p₃⋅x                                 ⎟\n",
       "⎜─────────────────────────, (p₀, p₁, p₂, p₃), (q₁, q₂, q₃)⎟\n",
       "⎜            2       3                                    ⎟\n",
       "⎝ q₁⋅x + q₂⋅x  + q₃⋅x  + 1                                ⎠"
      ]
     },
     "execution_count": 4,
     "metadata": {},
     "output_type": "execute_result"
    }
   ],
   "source": [
    "def general_rat_func(d, x):\n",
    "    \"\"\"\n",
    "    Return a general rational function with numerator and denominator degree d\n",
    "    \n",
    "    Returns a tuple, (rational function, numerator coefficients, denominator coefficients)\n",
    "    \n",
    "    The constant coefficient in the denominator is always 1.\n",
    "    \"\"\"\n",
    "    num_coeffs = symbols('p:%s' % (d+1))\n",
    "    den_coeffs = symbols('q:%s' % (d+1))[1:]\n",
    "    rat_func = Poly(reversed(num_coeffs), x)/Poly([*reversed(den_coeffs), 1], x)\n",
    "    return rat_func, num_coeffs, den_coeffs\n",
    "\n",
    "general_rat_func(3, x)"
   ]
  },
  {
   "cell_type": "code",
   "execution_count": null,
   "metadata": {
    "collapsed": false,
    "scrolled": false
   },
   "outputs": [
    {
     "name": "stdout",
     "output_type": "stream",
     "text": [
      "[-0.988468324328111, -0.968077118866204, -0.937752132147080, -0.897804539570742, -0.848644257494751, -0.790775736937699, -0.724792787229120, -0.651372482722222, -0.571268215094792, -0.485301962531081, -0.394355855113319, -0.299363122973358, -0.201298520088660, -0.101168321987432, 0, 0.101168321987432, 0.201298520088660, 0.299363122973358, 0.394355855113319, 0.485301962531081, 0.571268215094792, 0.651372482722222, 0.724792787229120, 0.790775736937699, 0.848644257494751, 0.897804539570742, 0.937752132147080, 0.968077118866204, 0.988468324328111, 0.998716507171053]\n",
      "--------------------------------------------------------------------------------\n",
      "Iteration 0:\n"
     ]
    }
   ],
   "source": [
    "from sympy.utilities.decorator import conserve_mpmath_dps\n",
    "\n",
    "@conserve_mpmath_dps\n",
    "def CRAM_exp2(degree, prec=128, *, max_loops=10):\n",
    "    #mpmath.mp.dps = prec\n",
    "\n",
    "    epsilon = symbols(\"epsilon\")\n",
    "    i = symbols(\"i\")\n",
    "    \n",
    "    r, num_coeffs, den_coeffs = general_rat_func(degree, t)\n",
    "    E = exp(-(-t - 1)/(2*t - 2)) - r\n",
    "    expr = E + (-1)**i*epsilon\n",
    "    expr = expr*r.as_numer_denom()[1]\n",
    "    expr = simplify(expr)\n",
    "\n",
    "    points = [chebyshevt_root(2*(degree + 1) + 1, 2*(degree + 1) - j) for j in range(1, 2*(degree + 1) + 1)]\n",
    "    print([i.evalf() for i in points])\n",
    "    for iteration in range(max_loops):\n",
    "        print('-'*80)\n",
    "        print(\"Iteration %s:\" % iteration)\n",
    "        system = Tuple(*[expr.subs({i: j, t: points[j]}) for j in range(2*degree + 1)])\n",
    "        system = system + Tuple(expr.replace(exp, lambda i: 0).subs({i: 2*degree + 1, t: 1}))\n",
    "        #print(system)\n",
    "        sol = dict(zip([*num_coeffs, *den_coeffs, epsilon], nsolve(system, [*num_coeffs, *den_coeffs, epsilon], [*[1]*(2*(degree + 1) - 1), 0], prec=prec)))\n",
    "        #print('sol', sol)\n",
    "        #print('system.subs(sol)', system.subs(sol))\n",
    "        D = diff(E.subs(sol), t)\n",
    "        plot(E.subs(sol), (t, -1, 1))\n",
    "        plot(E.subs(sol), (t, 0.9, 1))\n",
    "        # we can't use 1 because of the singularity\n",
    "        points = [-1, *nsolve_intervals(D, [-1, 0.99999], division=1000, maxsteps=300, prec=prec), 1]\n",
    "        #print(points)\n",
    "        Evals = [E.evalf(prec, subs={**sol, t: point}) for point in points[:-1]] + [-r.evalf(prec, subs={**sol, t: 1})]\n",
    "        #print('Evals', Evals)\n",
    "        maxmin = N(max(map(abs, Evals)) - min(map(abs, Evals)))\n",
    "        print('max - min', maxmin)\n",
    "        print('epsilon', N(sol[epsilon]))\n",
    "        assert len(points) == 2*(degree + 1)\n",
    "        if maxmin < 10**-prec:\n",
    "            print(\"Converged in\", iteration + 1, \"iterations.\")\n",
    "            break\n",
    "    else:\n",
    "        import sys\n",
    "        print(\"!!!WARNING: DID NOT CONVERGE AFTER\", max_loops, \"ITERATIONS!!!\", file=sys.stderr)\n",
    "        \n",
    "    #print(sol)\n",
    "    #sol = {i: Rational(str(sol[i])) for i in sol}\n",
    "    #print(sol)\n",
    "    n, d = together(r.subs(sol).subs(t, (2*t - 1)/(2*t + 1))).as_numer_denom() # simplify/cancel here will add degree to the numerator and denominator\n",
    "    rat_func = (Poly(n)/Poly(d).TC())/(Poly(d)/Poly(d).TC())\n",
    "    return rat_func.evalf(prec)\n",
    "\n",
    "#D = CRAM_exp2()\n",
    "\n",
    "rat_func = CRAM_exp2(14)\n",
    "print(rat_func)\n",
    "plot(rat_func - exp(-t), (t, 0, 100))"
   ]
  },
  {
   "cell_type": "code",
   "execution_count": null,
   "metadata": {
    "collapsed": true
   },
   "outputs": [],
   "source": [
    "!say done"
   ]
  },
  {
   "cell_type": "code",
   "execution_count": 8,
   "metadata": {
    "collapsed": false,
    "scrolled": true
   },
   "outputs": [
    {
     "data": {
      "image/png": "[encoded data removed]",
      "text/plain": [
       "<matplotlib.figure.Figure at 0x114637d30>"
      ]
     },
     "metadata": {},
     "output_type": "display_data"
    },
    {
     "data": {
      "text/plain": [
       "<sympy.plotting.plot.Plot at 0x114637828>"
      ]
     },
     "execution_count": 8,
     "metadata": {},
     "output_type": "execute_result"
    }
   ],
   "source": [
    "correct_rat_func2 = (9.92641e-1 + -1.88332e-1*t + 4.21096e-3*t**2)/(1 + 6.69295e-1*t + 5.72258e-1*t**2)\n",
    "plot(correct_rat_func2 - exp(-t), (t, 0, 100))"
   ]
  },
  {
   "cell_type": "code",
   "execution_count": 86,
   "metadata": {
    "collapsed": false,
    "scrolled": false
   },
   "outputs": [
    {
     "data": {
      "image/png": "[encoded data removed]",
      "text/plain": [
       "<matplotlib.figure.Figure at 0x14b700710>"
      ]
     },
     "metadata": {},
     "output_type": "display_data"
    },
    {
     "data": {
      "text/plain": [
       "<sympy.plotting.plot.Plot at 0x14bbd2fd0>"
      ]
     },
     "execution_count": 86,
     "metadata": {},
     "output_type": "execute_result"
    }
   ],
   "source": [
    "#plot(rat_func - correct_rat_func2, (t, 0, 100))"
   ]
  },
  {
   "cell_type": "code",
   "execution_count": 41,
   "metadata": {
    "collapsed": false
   },
   "outputs": [
    {
     "data": {
      "image/png": "[encoded data removed]",
      "text/plain": [
       "<matplotlib.figure.Figure at 0x1156bcba8>"
      ]
     },
     "metadata": {},
     "output_type": "display_data"
    },
    {
     "data": {
      "text/plain": [
       "<sympy.plotting.plot.Plot at 0x1156bca58>"
      ]
     },
     "execution_count": 41,
     "metadata": {},
     "output_type": "execute_result"
    }
   ],
   "source": [
    "plot((correct_rat_func2 - exp(-t))/correct_rat_func2, (t, 20, 100))"
   ]
  },
  {
   "cell_type": "code",
   "execution_count": 5,
   "metadata": {
    "collapsed": false,
    "scrolled": true
   },
   "outputs": [
    {
     "data": {
      "text/plain": [
       "mpf('-0.39506511254488194')"
      ]
     },
     "execution_count": 5,
     "metadata": {},
     "output_type": "execute_result"
    }
   ],
   "source": [
    "nsolve(D, (-1, -0.39506511254484362 - 1e-20), solver='bisect', tol=1e-20)"
   ]
  },
  {
   "cell_type": "code",
   "execution_count": 6,
   "metadata": {
    "collapsed": false
   },
   "outputs": [],
   "source": [
    "#import mpmath\n",
    "#mpmath.findroot?"
   ]
  },
  {
   "cell_type": "code",
   "execution_count": 7,
   "metadata": {
    "collapsed": false
   },
   "outputs": [
    {
     "data": {
      "image/png": "[encoded data removed]",
      "text/plain": [
       "<matplotlib.figure.Figure at 0x10ff9a278>"
      ]
     },
     "metadata": {},
     "output_type": "display_data"
    },
    {
     "data": {
      "text/plain": [
       "<sympy.plotting.plot.Plot at 0x10ff9a208>"
      ]
     },
     "execution_count": 7,
     "metadata": {},
     "output_type": "execute_result"
    }
   ],
   "source": [
    "plot(sin(x), (x, -10, 13))"
   ]
  },
  {
   "cell_type": "code",
   "execution_count": 8,
   "metadata": {
    "collapsed": false
   },
   "outputs": [
    {
     "data": {
      "text/plain": [
       "mpf('-3.1415926535897932')"
      ]
     },
     "execution_count": 8,
     "metadata": {},
     "output_type": "execute_result"
    }
   ],
   "source": [
    "nsolve(sin(x), [-10, -0.1], solver='bisect')"
   ]
  },
  {
   "cell_type": "code",
   "execution_count": 9,
   "metadata": {
    "collapsed": false
   },
   "outputs": [
    {
     "name": "stdout",
     "output_type": "stream",
     "text": [
      "109\n"
     ]
    },
    {
     "data": {
      "text/plain": [
       "[mpf('-0.39506511254488194'),\n",
       " mpf('0.20691058995492143'),\n",
       " mpf('0.65489012733236148'),\n",
       " mpf('0.89772666518036129'),\n",
       " mpf('0.89772676518036132'),\n",
       " mpf('0.89772676518036132'),\n",
       " mpf('0.89772686518036127'),\n",
       " mpf('0.89772686518036127'),\n",
       " mpf('0.89772696518036121'),\n",
       " mpf('0.89772696518036121'),\n",
       " mpf('0.89772706518036116'),\n",
       " mpf('0.89772706518036116')]"
      ]
     },
     "execution_count": 9,
     "metadata": {},
     "output_type": "execute_result"
    }
   ],
   "source": [
    "bisect_roots(D, [-1, 0.9], solver='bisect')"
   ]
  },
  {
   "cell_type": "code",
   "execution_count": 10,
   "metadata": {
    "collapsed": false
   },
   "outputs": [
    {
     "data": {
      "image/png": "[encoded data removed]",
      "text/plain": [
       "<matplotlib.figure.Figure at 0x113df5ac8>"
      ]
     },
     "metadata": {},
     "output_type": "display_data"
    },
    {
     "data": {
      "text/plain": [
       "<sympy.plotting.plot.Plot at 0x1141ccc88>"
      ]
     },
     "execution_count": 10,
     "metadata": {},
     "output_type": "execute_result"
    }
   ],
   "source": [
    "plot(D, (t, -1, 1))"
   ]
  },
  {
   "cell_type": "code",
   "execution_count": 11,
   "metadata": {
    "collapsed": false
   },
   "outputs": [
    {
     "ename": "ValueError",
     "evalue": "Could not find root within given tolerance. (1.065e-06 > 2.1684e-19)\nTry another starting point or tweak arguments.",
     "output_type": "error",
     "traceback": [
      "\u001b[0;31m---------------------------------------------------------------------------\u001b[0m",
      "\u001b[0;31mValueError\u001b[0m                                Traceback (most recent call last)",
      "\u001b[0;32m<ipython-input-11-931dd2c04b96>\u001b[0m in \u001b[0;36m<module>\u001b[0;34m()\u001b[0m\n\u001b[0;32m----> 1\u001b[0;31m \u001b[0mnsolve\u001b[0m\u001b[0;34m(\u001b[0m\u001b[0mD\u001b[0m\u001b[0;34m,\u001b[0m \u001b[0;34m[\u001b[0m\u001b[0mmpf\u001b[0m\u001b[0;34m(\u001b[0m\u001b[0;34m'0.2069106899549174'\u001b[0m\u001b[0;34m)\u001b[0m \u001b[0;34m+\u001b[0m \u001b[0;36m1e-4\u001b[0m\u001b[0;34m,\u001b[0m \u001b[0;36m0.999\u001b[0m\u001b[0;34m]\u001b[0m\u001b[0;34m,\u001b[0m \u001b[0msolver\u001b[0m\u001b[0;34m=\u001b[0m\u001b[0;34m'ridder'\u001b[0m\u001b[0;34m)\u001b[0m\u001b[0;34m\u001b[0m\u001b[0m\n\u001b[0m",
      "\u001b[0;32m/Users/aaronmeurer/Documents/python/sympy/sympy/sympy/solvers/solvers.py\u001b[0m in \u001b[0;36mnsolve\u001b[0;34m(*args, **kwargs)\u001b[0m\n\u001b[1;32m   2749\u001b[0m \u001b[0;34m\u001b[0m\u001b[0m\n\u001b[1;32m   2750\u001b[0m         \u001b[0mf\u001b[0m \u001b[0;34m=\u001b[0m \u001b[0mlambdify\u001b[0m\u001b[0;34m(\u001b[0m\u001b[0mfargs\u001b[0m\u001b[0;34m,\u001b[0m \u001b[0mf\u001b[0m\u001b[0;34m,\u001b[0m \u001b[0mmodules\u001b[0m\u001b[0;34m)\u001b[0m\u001b[0;34m\u001b[0m\u001b[0m\n\u001b[0;32m-> 2751\u001b[0;31m         \u001b[0;32mreturn\u001b[0m \u001b[0mfindroot\u001b[0m\u001b[0;34m(\u001b[0m\u001b[0mf\u001b[0m\u001b[0;34m,\u001b[0m \u001b[0mx0\u001b[0m\u001b[0;34m,\u001b[0m \u001b[0;34m**\u001b[0m\u001b[0mkwargs\u001b[0m\u001b[0;34m)\u001b[0m\u001b[0;34m\u001b[0m\u001b[0m\n\u001b[0m\u001b[1;32m   2752\u001b[0m \u001b[0;34m\u001b[0m\u001b[0m\n\u001b[1;32m   2753\u001b[0m     \u001b[0;32mif\u001b[0m \u001b[0mlen\u001b[0m\u001b[0;34m(\u001b[0m\u001b[0mfargs\u001b[0m\u001b[0;34m)\u001b[0m \u001b[0;34m>\u001b[0m \u001b[0mf\u001b[0m\u001b[0;34m.\u001b[0m\u001b[0mcols\u001b[0m\u001b[0;34m:\u001b[0m\u001b[0;34m\u001b[0m\u001b[0m\n",
      "\u001b[0;32m/Users/aaronmeurer/anaconda3/lib/python3.5/site-packages/mpmath/calculus/optimization.py\u001b[0m in \u001b[0;36mfindroot\u001b[0;34m(ctx, f, x0, solver, tol, verbose, verify, **kwargs)\u001b[0m\n\u001b[1;32m    973\u001b[0m                              \u001b[0;34m'(%g > %g)\\n'\u001b[0m\u001b[0;34m\u001b[0m\u001b[0m\n\u001b[1;32m    974\u001b[0m                              \u001b[0;34m'Try another starting point or tweak arguments.'\u001b[0m\u001b[0;34m\u001b[0m\u001b[0m\n\u001b[0;32m--> 975\u001b[0;31m                              % (norm(f(*xl))**2, tol))\n\u001b[0m\u001b[1;32m    976\u001b[0m         \u001b[0;32mreturn\u001b[0m \u001b[0mx\u001b[0m\u001b[0;34m\u001b[0m\u001b[0m\n\u001b[1;32m    977\u001b[0m     \u001b[0;32mfinally\u001b[0m\u001b[0;34m:\u001b[0m\u001b[0;34m\u001b[0m\u001b[0m\n",
      "\u001b[0;31mValueError\u001b[0m: Could not find root within given tolerance. (1.065e-06 > 2.1684e-19)\nTry another starting point or tweak arguments."
     ]
    }
   ],
   "source": [
    "nsolve(D, [mpf('0.2069106899549174') + 1e-4, 0.999], solver='ridder')"
   ]
  },
  {
   "cell_type": "code",
   "execution_count": null,
   "metadata": {
    "collapsed": false
   },
   "outputs": [],
   "source": [
    "intervals = [[i/30, (i+1)/30] for i in range(-30, 29)]"
   ]
  },
  {
   "cell_type": "code",
   "execution_count": null,
   "metadata": {
    "collapsed": false
   },
   "outputs": [],
   "source": [
    "def catch_ValueError(f):\n",
    "    try:\n",
    "        return f()\n",
    "    except ValueError:\n",
    "        pass"
   ]
  },
  {
   "cell_type": "code",
   "execution_count": null,
   "metadata": {
    "collapsed": false
   },
   "outputs": [],
   "source": [
    "[catch_ValueError(lambda: nsolve(D, b, solver='bisect')) for b in intervals]"
   ]
  },
  {
   "cell_type": "code",
   "execution_count": null,
   "metadata": {
    "collapsed": false
   },
   "outputs": [],
   "source": [
    "sin(x).evalf(subs={x: mpf('9.9999999999999995e-8')})"
   ]
  },
  {
   "cell_type": "code",
   "execution_count": 12,
   "metadata": {
    "collapsed": false
   },
   "outputs": [
    {
     "data": {
      "text/plain": [
       "mpf('-0.39506511254488194')"
      ]
     },
     "execution_count": 12,
     "metadata": {},
     "output_type": "execute_result"
    }
   ],
   "source": [
    "nsolve(D, (-1, 0), solver='bisect')"
   ]
  },
  {
   "cell_type": "code",
   "execution_count": 13,
   "metadata": {
    "collapsed": false
   },
   "outputs": [
    {
     "data": {
      "image/png": "[encoded data removed]",
      "text/latex": [
       "$$- \\frac{\\left(- 1.0012105942918814700824155012179693629548405640752108486160844586380322850346668176141325464129741878735923731729993896019597021 t + 1.2351673140964271960166778698949864931856519129242852010748230546122806675198087823354638129950200022333046224519486073460038834\\right) \\left(0.75984526802652070512705869289802267075346491409484026948715081096886858647170143083682070615832374229945452581016652437918067357 t^{2} - 1.3617815355355396076149937263330385962144140595169269980162759164388487359880445882956284325131785615217152704189584078033394975 t + 0.60565545229930814606018312225170925069598450828397976324210466031646953615401881297912226598554604883899853583605619239645479414\\right)}{\\left(0.50060529714594073504120775060898468147742028203760542430804222931901614251733340880706627320648709393679618658649969480097985106 t^{2} - 1.2351673140964271960166778698949864931856519129242852010748230546122806675198087823354638129950200022333046224519486073460038834 t + 1\\right)^{2}} - \\frac{1.5196905360530414102541173857960453415069298281896805389743016219377371729434028616736414123166474845989090516203330487583613471 t - 1.3617815355355396076149937263330385962144140595169269980162759164388487359880445882956284325131785615217152704189584078033394975}{0.50060529714594073504120775060898468147742028203760542430804222931901614251733340880706627320648709393679618658649969480097985106 t^{2} - 1.2351673140964271960166778698949864931856519129242852010748230546122806675198087823354638129950200022333046224519486073460038834 t + 1} + \\left(- \\frac{2 \\left(t + 1\\right)}{\\left(2 t - 2\\right)^{2}} + \\frac{1}{2 t - 2}\\right) e^{\\frac{t + 1}{2 t - 2}}$$"
      ],
      "text/plain": [
       "                                                                              \n",
       "                                                                              \n",
       "  (-1.001210594291881470082415501217969362954840564075210848616084458638032285\n",
       "- ────────────────────────────────────────────────────────────────────────────\n",
       "                                                                              \n",
       "                                                                              \n",
       "                                                                              \n",
       "\n",
       "                                                                              \n",
       "                                                                              \n",
       "0346668176141325464129741878735923731729993896019597021⋅t + 1.2351673140964271\n",
       "──────────────────────────────────────────────────────────────────────────────\n",
       "                                                                              \n",
       "                                                                              \n",
       "                                                                              \n",
       "\n",
       "                                                                              \n",
       "                                                                              \n",
       "960166778698949864931856519129242852010748230546122806675198087823354638129950\n",
       "──────────────────────────────────────────────────────────────────────────────\n",
       "                                                                              \n",
       "                                            ⎛                                 \n",
       "                                            ⎝0.5006052971459407350412077506089\n",
       "\n",
       "                                                                              \n",
       "                                   ⎛                                          \n",
       "200022333046224519486073460038834)⋅⎝0.7598452680265207051270586928980226707534\n",
       "──────────────────────────────────────────────────────────────────────────────\n",
       "                                                                              \n",
       "                                                                              \n",
       "846814774202820376054243080422293190161425173334088070662732064870939367961865\n",
       "\n",
       "                                                                              \n",
       "                                                                              \n",
       "649140948402694871508109688685864717014308368207061583237422994545258101665243\n",
       "──────────────────────────────────────────────────────────────────────────────\n",
       "                                                                              \n",
       "                     2                                                        \n",
       "8649969480097985106⋅t  - 1.235167314096427196016677869894986493185651912924285\n",
       "\n",
       "                                                                              \n",
       "            2                                                                 \n",
       "7918067357⋅t  - 1.361781535535539607614993726333038596214414059516926998016275\n",
       "──────────────────────────────────────────────────────────────────────────────\n",
       "                                                                              \n",
       "                                                                              \n",
       "2010748230546122806675198087823354638129950200022333046224519486073460038834⋅t\n",
       "\n",
       "                                                                              \n",
       "                                                                              \n",
       "9164388487359880445882956284325131785615217152704189584078033394975⋅t + 0.6056\n",
       "──────────────────────────────────────────────────────────────────────────────\n",
       "     2                                                                        \n",
       "    ⎞                                                                         \n",
       " + 1⎠                                                                         \n",
       "\n",
       "                                                                              \n",
       "                                                                              \n",
       "554522993081460601831222517092506959845082839797632421046603164695361540188129\n",
       "──────────────────────────────────────────────────────────────────────────────\n",
       "                                                                              \n",
       "                                                                              \n",
       "                                                                              \n",
       "\n",
       "                                                                              \n",
       "                                              ⎞                               \n",
       "7912226598554604883899853583605619239645479414⎠       1.5196905360530414102541\n",
       "─────────────────────────────────────────────── - ────────────────────────────\n",
       "                                                                              \n",
       "                                                  0.50060529714594073504120775\n",
       "                                                                              \n",
       "\n",
       "                                                                              \n",
       "                                                                              \n",
       "173857960453415069298281896805389743016219377371729434028616736414123166474845\n",
       "──────────────────────────────────────────────────────────────────────────────\n",
       "                                                                              \n",
       "060898468147742028203760542430804222931901614251733340880706627320648709393679\n",
       "                                                                              \n",
       "\n",
       "                                                                              \n",
       "                                                                              \n",
       "989090516203330487583613471⋅t - 1.36178153553553960761499372633303859621441405\n",
       "──────────────────────────────────────────────────────────────────────────────\n",
       "                          2                                                   \n",
       "618658649969480097985106⋅t  - 1.2351673140964271960166778698949864931856519129\n",
       "                                                                              \n",
       "\n",
       "                                                                              \n",
       "                                                                              \n",
       "951692699801627591643884873598804458829562843251317856152171527041895840780333\n",
       "──────────────────────────────────────────────────────────────────────────────\n",
       "                                                                              \n",
       "242852010748230546122806675198087823354638129950200022333046224519486073460038\n",
       "                                                                              \n",
       "\n",
       "                                       t + 1 \n",
       "                                      ───────\n",
       "94975       ⎛  2⋅(t + 1)       1   ⎞  2⋅t - 2\n",
       "───────── + ⎜- ────────── + ───────⎟⋅ℯ       \n",
       "            ⎜           2   2⋅t - 2⎟         \n",
       "834⋅t + 1   ⎝  (2⋅t - 2)           ⎠         \n",
       "                                             "
      ]
     },
     "execution_count": 13,
     "metadata": {},
     "output_type": "execute_result"
    }
   ],
   "source": [
    "D"
   ]
  },
  {
   "cell_type": "code",
   "execution_count": 34,
   "metadata": {
    "collapsed": false
   },
   "outputs": [
    {
     "ename": "ValueError",
     "evalue": "Could not find root within given tolerance. (1.38725 > 1.40884e-132)\nTry another starting point or tweak arguments.",
     "output_type": "error",
     "traceback": [
      "\u001b[0;31m---------------------------------------------------------------------------\u001b[0m",
      "\u001b[0;31mValueError\u001b[0m                                Traceback (most recent call last)",
      "\u001b[0;32m<ipython-input-34-a79e4433bdce>\u001b[0m in \u001b[0;36m<module>\u001b[0;34m()\u001b[0m\n\u001b[1;32m      2\u001b[0m \u001b[0;32mtry\u001b[0m\u001b[0;34m:\u001b[0m\u001b[0;34m\u001b[0m\u001b[0m\n\u001b[1;32m      3\u001b[0m     \u001b[0mmpmath\u001b[0m\u001b[0;34m.\u001b[0m\u001b[0mmp\u001b[0m\u001b[0;34m.\u001b[0m\u001b[0mdps\u001b[0m \u001b[0;34m=\u001b[0m \u001b[0;36m128\u001b[0m\u001b[0;34m\u001b[0m\u001b[0m\n\u001b[0;32m----> 4\u001b[0;31m     \u001b[0mprint\u001b[0m\u001b[0;34m(\u001b[0m\u001b[0mnsolve\u001b[0m\u001b[0;34m(\u001b[0m\u001b[0mD\u001b[0m\u001b[0;34m,\u001b[0m \u001b[0;34m(\u001b[0m\u001b[0;34m-\u001b[0m\u001b[0;36m1\u001b[0m\u001b[0;34m,\u001b[0m \u001b[0;36m0\u001b[0m\u001b[0;34m)\u001b[0m\u001b[0;34m,\u001b[0m \u001b[0msolver\u001b[0m\u001b[0;34m=\u001b[0m\u001b[0;34m'bisect'\u001b[0m\u001b[0;34m,\u001b[0m \u001b[0mmaxsteps\u001b[0m\u001b[0;34m=\u001b[0m\u001b[0;36m300\u001b[0m\u001b[0;34m)\u001b[0m\u001b[0;34m)\u001b[0m\u001b[0;34m\u001b[0m\u001b[0m\n\u001b[0m\u001b[1;32m      5\u001b[0m \u001b[0;32mfinally\u001b[0m\u001b[0;34m:\u001b[0m\u001b[0;34m\u001b[0m\u001b[0m\n\u001b[1;32m      6\u001b[0m     \u001b[0mmpmath\u001b[0m\u001b[0;34m.\u001b[0m\u001b[0mmp\u001b[0m\u001b[0;34m.\u001b[0m\u001b[0mdps\u001b[0m \u001b[0;34m=\u001b[0m \u001b[0;36m15\u001b[0m\u001b[0;34m\u001b[0m\u001b[0m\n",
      "\u001b[0;32m/Users/aaronmeurer/Documents/python/sympy/sympy/sympy/solvers/solvers.py\u001b[0m in \u001b[0;36mnsolve\u001b[0;34m(*args, **kwargs)\u001b[0m\n\u001b[1;32m   2749\u001b[0m \u001b[0;34m\u001b[0m\u001b[0m\n\u001b[1;32m   2750\u001b[0m         \u001b[0mf\u001b[0m \u001b[0;34m=\u001b[0m \u001b[0mlambdify\u001b[0m\u001b[0;34m(\u001b[0m\u001b[0mfargs\u001b[0m\u001b[0;34m,\u001b[0m \u001b[0mf\u001b[0m\u001b[0;34m,\u001b[0m \u001b[0mmodules\u001b[0m\u001b[0;34m)\u001b[0m\u001b[0;34m\u001b[0m\u001b[0m\n\u001b[0;32m-> 2751\u001b[0;31m         \u001b[0;32mreturn\u001b[0m \u001b[0mfindroot\u001b[0m\u001b[0;34m(\u001b[0m\u001b[0mf\u001b[0m\u001b[0;34m,\u001b[0m \u001b[0mx0\u001b[0m\u001b[0;34m,\u001b[0m \u001b[0;34m**\u001b[0m\u001b[0mkwargs\u001b[0m\u001b[0;34m)\u001b[0m\u001b[0;34m\u001b[0m\u001b[0m\n\u001b[0m\u001b[1;32m   2752\u001b[0m \u001b[0;34m\u001b[0m\u001b[0m\n\u001b[1;32m   2753\u001b[0m     \u001b[0;32mif\u001b[0m \u001b[0mlen\u001b[0m\u001b[0;34m(\u001b[0m\u001b[0mfargs\u001b[0m\u001b[0;34m)\u001b[0m \u001b[0;34m>\u001b[0m \u001b[0mf\u001b[0m\u001b[0;34m.\u001b[0m\u001b[0mcols\u001b[0m\u001b[0;34m:\u001b[0m\u001b[0;34m\u001b[0m\u001b[0m\n",
      "\u001b[0;32m/Users/aaronmeurer/anaconda3/lib/python3.5/site-packages/mpmath/calculus/optimization.py\u001b[0m in \u001b[0;36mfindroot\u001b[0;34m(ctx, f, x0, solver, tol, verbose, verify, **kwargs)\u001b[0m\n\u001b[1;32m    973\u001b[0m                              \u001b[0;34m'(%g > %g)\\n'\u001b[0m\u001b[0;34m\u001b[0m\u001b[0m\n\u001b[1;32m    974\u001b[0m                              \u001b[0;34m'Try another starting point or tweak arguments.'\u001b[0m\u001b[0;34m\u001b[0m\u001b[0m\n\u001b[0;32m--> 975\u001b[0;31m                              % (norm(f(*xl))**2, tol))\n\u001b[0m\u001b[1;32m    976\u001b[0m         \u001b[0;32mreturn\u001b[0m \u001b[0mx\u001b[0m\u001b[0;34m\u001b[0m\u001b[0m\n\u001b[1;32m    977\u001b[0m     \u001b[0;32mfinally\u001b[0m\u001b[0;34m:\u001b[0m\u001b[0;34m\u001b[0m\u001b[0m\n",
      "\u001b[0;31mValueError\u001b[0m: Could not find root within given tolerance. (1.38725 > 1.40884e-132)\nTry another starting point or tweak arguments."
     ]
    }
   ],
   "source": [
    "import mpmath\n",
    "try:\n",
    "    mpmath.mp.dps = 128\n",
    "    print(nsolve(D, (-1, 0), solver='bisect', maxsteps=300))\n",
    "finally:\n",
    "    mpmath.mp.dps = 15"
   ]
  },
  {
   "cell_type": "code",
   "execution_count": 30,
   "metadata": {
    "collapsed": false
   },
   "outputs": [
    {
     "data": {
      "image/png": "[encoded data removed]",
      "text/latex": [
       "$$2 x^{2} - 1$$"
      ],
      "text/plain": [
       "   2    \n",
       "2⋅x  - 1"
      ]
     },
     "execution_count": 30,
     "metadata": {},
     "output_type": "execute_result"
    }
   ],
   "source": [
    "chebyshevt(2, x)"
   ]
  },
  {
   "cell_type": "code",
   "execution_count": 91,
   "metadata": {
    "collapsed": false
   },
   "outputs": [
    {
     "data": {
      "image/png": "[encoded data removed]",
      "text/latex": [
       "$$0.9999999999999999$$"
      ],
      "text/plain": [
       "0.9999999999999999"
      ]
     },
     "execution_count": 91,
     "metadata": {},
     "output_type": "execute_result"
    }
   ],
   "source": [
    "0.9999999999999999"
   ]
  },
  {
   "cell_type": "code",
   "execution_count": 92,
   "metadata": {
    "collapsed": false
   },
   "outputs": [
    {
     "data": {
      "image/png": "[encoded data removed]",
      "text/latex": [
       "$$1.0$$"
      ],
      "text/plain": [
       "1.0"
      ]
     },
     "execution_count": 92,
     "metadata": {},
     "output_type": "execute_result"
    }
   ],
   "source": [
    "0.99999999999999999"
   ]
  },
  {
   "cell_type": "code",
   "execution_count": 106,
   "metadata": {
    "collapsed": false
   },
   "outputs": [
    {
     "data": {
      "image/png": "[encoded data removed]",
      "text/latex": [
       "$$e^{\\frac{t + 1}{2 t - 2}}$$"
      ],
      "text/plain": [
       "  t + 1 \n",
       " ───────\n",
       " 2⋅t - 2\n",
       "ℯ       "
      ]
     },
     "execution_count": 106,
     "metadata": {},
     "output_type": "execute_result"
    }
   ],
   "source": [
    "exp(-(-t - 1)/(2*t - 2))"
   ]
  },
  {
   "cell_type": "code",
   "execution_count": 107,
   "metadata": {
    "collapsed": false
   },
   "outputs": [
    {
     "data": {
      "image/png": "[encoded data removed]",
      "text/latex": [
       "$$\\left [ -0.584798632638487 - 1.18553778124158 i, \\quad -0.584798632638487 + 1.18553778124158 i\\right ]$$"
      ],
      "text/plain": [
       "[-0.584798632638487 - 1.18553778124158⋅ⅈ, -0.584798632638487 + 1.1855377812415\n",
       "8⋅ⅈ]"
      ]
     },
     "execution_count": 107,
     "metadata": {},
     "output_type": "execute_result"
    }
   ],
   "source": [
    "solve((0.57224957904836676579778131095824616229041363386436155632065723326613208320645433529158968043480368460271370103317310738469165646*t**2 + 0.66930154271086975944415360267931286108869186534800442869820775970713699218292282609079303557228276229468949430966691265928683428*t + 1.0))"
   ]
  },
  {
   "cell_type": "code",
   "execution_count": 111,
   "metadata": {
    "collapsed": false
   },
   "outputs": [
    {
     "data": {
      "image/png": "[encoded data removed]",
      "text/latex": [
       "$$\\left [ 1, \\quad 2\\right ]$$"
      ],
      "text/plain": [
       "[1, 2]"
      ]
     },
     "execution_count": 111,
     "metadata": {},
     "output_type": "execute_result"
    }
   ],
   "source": [
    "[1, 2, 3][:-1]"
   ]
  },
  {
   "cell_type": "code",
   "execution_count": 116,
   "metadata": {
    "collapsed": false
   },
   "outputs": [
    {
     "data": {
      "image/png": "[encoded data removed]",
      "text/plain": [
       "<matplotlib.figure.Figure at 0x14d2a4358>"
      ]
     },
     "metadata": {},
     "output_type": "display_data"
    },
    {
     "data": {
      "text/plain": [
       "<sympy.plotting.plot.Plot at 0x14da29748>"
      ]
     },
     "execution_count": 116,
     "metadata": {},
     "output_type": "execute_result"
    }
   ],
   "source": [
    "plot((t + 1)/(t - 1)*(-1/2), (t, -1, 1))"
   ]
  },
  {
   "cell_type": "code",
   "execution_count": 120,
   "metadata": {
    "collapsed": false
   },
   "outputs": [
    {
     "data": {
      "image/png": "[encoded data removed]",
      "text/latex": [
       "$$\\left [ \\frac{2 y + 1}{2 y - 1}\\right ]$$"
      ],
      "text/plain": [
       "⎡2⋅y + 1⎤\n",
       "⎢───────⎥\n",
       "⎣2⋅y - 1⎦"
      ]
     },
     "execution_count": 120,
     "metadata": {},
     "output_type": "execute_result"
    }
   ],
   "source": [
    "solve(y - -(-t - 1)/(2*t - 2), t)"
   ]
  },
  {
   "cell_type": "code",
   "execution_count": 124,
   "metadata": {
    "collapsed": false
   },
   "outputs": [
    {
     "data": {
      "image/png": "[encoded data removed]",
      "text/latex": [
       "$$e^{\\frac{y \\left(t + 1\\right)}{2 t - 2}}$$"
      ],
      "text/plain": [
       " y⋅(t + 1)\n",
       " ─────────\n",
       "  2⋅t - 2 \n",
       "ℯ         "
      ]
     },
     "execution_count": 124,
     "metadata": {},
     "output_type": "execute_result"
    }
   ],
   "source": [
    "exp(-(-t - 1)/(2*t - 2)).evalf(subs={t: 0})"
   ]
  },
  {
   "cell_type": "code",
   "execution_count": 128,
   "metadata": {
    "collapsed": false
   },
   "outputs": [
    {
     "data": {
      "image/png": "[encoded data removed]",
      "text/latex": [
       "$$14$$"
      ],
      "text/plain": [
       "14"
      ]
     },
     "execution_count": 128,
     "metadata": {},
     "output_type": "execute_result"
    }
   ],
   "source": [
    "len('42109959068982')"
   ]
  },
  {
   "cell_type": "code",
   "execution_count": 130,
   "metadata": {
    "collapsed": true
   },
   "outputs": [],
   "source": [
    "@conserve_mpmath_dps\n",
    "def test_increased_dps():\n",
    "    # Issue 8564\n",
    "    import mpmath\n",
    "    mpmath.mp.dps = 128\n",
    "    x = Symbol('x')\n",
    "    e1 = x**2 - pi\n",
    "    q = nsolve(e1, x, 3.0)\n",
    "\n",
    "    assert abs(sqrt(pi).evalf(128) - q) < 1e-128\n",
    "\n",
    "test_increased_dps()"
   ]
  },
  {
   "cell_type": "code",
   "execution_count": 137,
   "metadata": {
    "collapsed": false
   },
   "outputs": [
    {
     "name": "stdout",
     "output_type": "stream",
     "text": [
      "1.0000000000000000000000000000000000000000000000000000000000000000000000000000000000000000000000000001\n",
      "1.0000000000000000000000000000000000000000000000000000000000000000000000000000000000000000000000000001000000000000000000000000000\n",
      "1.00000000000000\n"
     ]
    }
   ],
   "source": [
    "@conserve_mpmath_dps\n",
    "def test_mpf_subs():\n",
    "    import mpmath\n",
    "    mpmath.mp.dps = 128\n",
    "    a = mpf('1') + mpf('1e-100')\n",
    "    print(a)\n",
    "    print(x.subs(x, a))\n",
    "    print(Float(a))\n",
    "\n",
    "test_mpf_subs()"
   ]
  },
  {
   "cell_type": "code",
   "execution_count": 144,
   "metadata": {
    "collapsed": false
   },
   "outputs": [
    {
     "name": "stdout",
     "output_type": "stream",
     "text": [
      "3.1415926535897932384626433832795028841971693993751058209749445923078164062862089986280348253421170679821480865132823066470938446\n",
      "3.1415926535897932384626433832795028841971693993751058209749445923078164062862089986280348253421170679821480865132823066470938446\n"
     ]
    }
   ],
   "source": [
    "@conserve_mpmath_dps\n",
    "def test_increased_dps2():\n",
    "    # Issue 8564\n",
    "    import mpmath\n",
    "    mpmath.mp.dps = 128\n",
    "    x = Symbol('x')\n",
    "    e1 = x**2 - pi\n",
    "    q = nsolve(e1, x, 3.0)\n",
    "    print((x**2).subs(x, q))\n",
    "    print(pi.evalf(128))\n",
    "\n",
    "test_increased_dps2()"
   ]
  },
  {
   "cell_type": "code",
   "execution_count": 159,
   "metadata": {
    "collapsed": false
   },
   "outputs": [
    {
     "name": "stdout",
     "output_type": "stream",
     "text": [
      "(0.0042109959068981903672474918875361551007743401128474766461802591015712655915560212085757577812298111403461332420727108940545962494*t**2 - 0.18833350198927433660307962375773654674462542624169163004230191709861650774462882479765838272526363158731185437928170659058040915*t + 0.9926413298304194180068495413519683855439395137082812516374575465853211659111912419679717799455724616744715155164834640408451293)/(0.57224957904836372570736532872030629677308743654023638843264990775530979197679586149353512762232398453528690780049165209508067807*t**2 + 0.66930154271087160162786406975682578159531634634707357772167429073040499365644728839234121616979336460323388632486469784004599072*t + 1.0)\n",
      "(0.0042109959068981902319228224147959051043334784348885130731594832554304543920692286150512328715813585751529478908147308247510818304*t**2 - 0.1883335019892743246297189560004799477752569428797900790843481507588522143198473107264222704579544281038255097909548061885535647*t + 0.99264132983041950442860901144027484597878392023398778279395178723668197996893660581620731993666633738456503233870282244062743252)/(0.57224957904836377040707255710162720198078512465710225748045909842276672878045476079146532782980255617241659394936652703249328588*t**2 + 0.66930154271087159949217750010925437712785181665997133501826390508750116474339450131113420220623360917322211168993495402213680723*t + 1.0)\n"
     ]
    }
   ],
   "source": [
    "p0, p1, p2, q1, q2, epsilon = symbols(\"p0, p1, p2, q1, q2, epsilon\")\n",
    "r = (p0 + p1*t + p2*t**2)/(1 + q1*t + q2*t**2)\n",
    "mpf = lambda i: Float(i, 128)\n",
    "sol = {q1: mpf('-1.1598158896958144389688907541448290768017556418690225475316113676987123000368036156835800708110657203943382445749046292411027838124'), epsilon: mpf('-0.0073586701695804955713909885597251540212160797660122172060482127633180200310633941837926800633336626154349676612971775593725674790502'), p1: mpf('-1.3420582608178928401767377898250826050312440510776128093723998679786607122879166676244905769597498693757444204486264349423147412592'), q2: mpf('0.54706937851182403348832181267224373295821044378627516587652817178767445252898045643900602804552389487580236216086250141313671452195'), p2: mpf('0.73617861351264467252445532341623038921509966014009367227031009417645097851179620934054146565716699654528814524660644163951335402577'), p0: mpf('0.6087293180014645115203537929174427433501475052521283394857491045045741371996335477254671722188240766010031663167379415577767292914')}\n",
    "other_rat_func =\"(0.0042109959068981902319228224147959051043334784348885130731594832554304543920692286150512328715813585751529478908147308247510818304*t**2 - 0.1883335019892743246297189560004799477752569428797900790843481507588522143198473107264222704579544281038255097909548061885535647*t + 0.99264132983041950442860901144027484597878392023398778279395178723668197996893660581620731993666633738456503233870282244062743252)/(0.57224957904836377040707255710162720198078512465710225748045909842276672878045476079146532782980255617241659394936652703249328588*t**2 + 0.66930154271087159949217750010925437712785181665997133501826390508750116474339450131113420220623360917322211168993495402213680723*t + 1.0)\"\n",
    "\n",
    "n, d = together(r.subs(sol).subs(t, (2*t - 1)/(2*t + 1))).as_numer_denom() # simplify/cancel here will add degree to the numerator and denominator\n",
    "rat_func = (Poly(n)/Poly(d).TC())/(Poly(d)/Poly(d).TC())\n",
    "print(rat_func)\n",
    "print(other_rat_func)\n",
    "del mpf"
   ]
  },
  {
   "cell_type": "code",
   "execution_count": 6,
   "metadata": {
    "collapsed": false
   },
   "outputs": [
    {
     "name": "stderr",
     "output_type": "stream",
     "text": [
      "test\n"
     ]
    }
   ],
   "source": [
    "import sys\n",
    "print('test', file=sys.stderr)"
   ]
  },
  {
   "cell_type": "code",
   "execution_count": 9,
   "metadata": {
    "collapsed": false
   },
   "outputs": [
    {
     "data": {
      "image/png": "[encoded data removed]",
      "text/latex": [
       "$$2e-10$$"
      ],
      "text/plain": [
       "2e-10"
      ]
     },
     "execution_count": 9,
     "metadata": {},
     "output_type": "execute_result"
    }
   ],
   "source": [
    "10**-10"
   ]
  },
  {
   "cell_type": "code",
   "execution_count": null,
   "metadata": {
    "collapsed": true
   },
   "outputs": [],
   "source": []
  }
 ],
 "metadata": {
  "anaconda-cloud": {},
  "kernelspec": {
   "display_name": "Python 3",
   "language": "python",
   "name": "python3"
  },
  "language_info": {
   "codemirror_mode": {
    "name": "ipython",
    "version": 3
   },
   "file_extension": ".py",
   "mimetype": "text/x-python",
   "name": "python",
   "nbconvert_exporter": "python",
   "pygments_lexer": "ipython3",
   "version": "3.5.2"
  }
 },
 "nbformat": 4,
 "nbformat_minor": 1
}
