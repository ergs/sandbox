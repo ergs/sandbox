{
 "cells": [
  {
   "cell_type": "markdown",
   "metadata": {},
   "source": [
    "chebyshev.ipynb was getting too big, so we're starting a new one"
   ]
  },
  {
   "cell_type": "code",
   "execution_count": 1,
   "metadata": {
    "collapsed": false
   },
   "outputs": [
    {
     "name": "stdout",
     "output_type": "stream",
     "text": [
      "IPython console for SymPy 1.0.1.dev (Python 3.5.2-64-bit) (ground types: gmpy)\n",
      "\n",
      "These commands were executed:\n",
      ">>> from __future__ import division\n",
      ">>> from sympy import *\n",
      ">>> x, y, z, t = symbols('x y z t')\n",
      ">>> k, m, n = symbols('k m n', integer=True)\n",
      ">>> f, g, h = symbols('f g h', cls=Function)\n",
      ">>> init_printing()\n",
      "\n",
      "Documentation can be found at http://docs.sympy.org/dev\n",
      "\n"
     ]
    }
   ],
   "source": [
    "from sympy import init_session\n",
    "init_session()\n",
    "from mpmath import mpf\n",
    "%matplotlib inline"
   ]
  },
  {
   "cell_type": "markdown",
   "metadata": {},
   "source": [
    "Now we try to mechanise the CRAM process"
   ]
  },
  {
   "cell_type": "code",
   "execution_count": 55,
   "metadata": {
    "collapsed": false
   },
   "outputs": [
    {
     "name": "stdout",
     "output_type": "stream",
     "text": [
      "115\n"
     ]
    },
    {
     "data": {
      "text/plain": [
       "[mpf('-9.4247779607693797'),\n",
       " mpf('-6.2831853071795865'),\n",
       " mpf('-3.1415926535897932'),\n",
       " mpf('0.0'),\n",
       " mpf('3.1415926535897932'),\n",
       " mpf('6.2831853071795865'),\n",
       " mpf('9.4247779607693797'),\n",
       " mpf('12.566370614359173')]"
      ]
     },
     "execution_count": 55,
     "metadata": {},
     "output_type": "execute_result"
    }
   ],
   "source": [
    "def bisect_roots(expr, bounds, eps=1e-7, division_cutoff=30, solver='bisect', **kwargs):\n",
    "    \"\"\"\n",
    "    Numerically find all the roots of expr in bounds via bisection\n",
    "    \n",
    "    division_cutoff is the fraction of bounds to check for roots. \n",
    "    One should expect the roots to be no more than |bounds|/division_cutoff apart.\n",
    "    \"\"\"\n",
    "    roots = []\n",
    "    intervals = [bounds]\n",
    "    var = expr.free_symbols.pop()\n",
    "    N = 0\n",
    "    while intervals:\n",
    "        N += 1\n",
    "        #print(intervals)\n",
    "        b = intervals.pop()\n",
    "        try:\n",
    "            root = nsolve(expr, b, solver=solver, **kwargs)\n",
    "        except ValueError:\n",
    "            # No root found\n",
    "            if (b[1] - b[0]) > (bounds[1] - bounds[0])/division_cutoff and sign(expr.evalf(subs={var: b[0]})) == sign(expr.evalf(subs={var: b[1]})):\n",
    "                # The bisect method will only work if the interval has alternate signs.\n",
    "                # If not, it will miss 2 roots, so try again with split intervals.\n",
    "                intervals.append([b[0], (b[0] + b[1])/2])\n",
    "                intervals.append([(b[0] + b[1])/2, b[1]])\n",
    "                continue\n",
    "        else:\n",
    "            if root not in roots:\n",
    "                roots.append(root)\n",
    "                intervals.append([b[0], root - eps])\n",
    "                intervals.append([root + eps, b[1]])\n",
    "    \n",
    "    print(N)\n",
    "    return sorted(roots)\n",
    "\n",
    "bisect_roots(sin(x), [-10, 13])"
   ]
  },
  {
   "cell_type": "code",
   "execution_count": 74,
   "metadata": {
    "collapsed": false
   },
   "outputs": [
    {
     "data": {
      "text/plain": [
       "[mpf('-0.39506511254484362'),\n",
       " mpf('0.20691058995491739'),\n",
       " mpf('0.65489012733235114'),\n",
       " mpf('0.89772666518036314')]"
      ]
     },
     "execution_count": 74,
     "metadata": {},
     "output_type": "execute_result"
    }
   ],
   "source": [
    "def nsolve_intervals(expr, bounds, division=30):\n",
    "    \"\"\"\n",
    "    Divide bounds into division intervals and nsolve in each one\n",
    "    \"\"\"\n",
    "    roots = []\n",
    "    L = bounds[1] - bounds[0]\n",
    "    for i in range(division):\n",
    "        interval = [bounds[0] + i*L/division, bounds[0] + (i + 1)*L/division]\n",
    "        try:\n",
    "            root = nsolve(expr, interval, solver='bisect')\n",
    "        except ValueError:\n",
    "            continue\n",
    "        else:\n",
    "            roots.append(root)\n",
    "            \n",
    "    return roots\n",
    "        \n",
    "nsolve_intervals(D, [-1, 0.99])"
   ]
  },
  {
   "cell_type": "code",
   "execution_count": 76,
   "metadata": {
    "collapsed": false
   },
   "outputs": [
    {
     "data": {
      "image/png": "[encoded data removed]",
      "text/plain": [
       "<matplotlib.figure.Figure at 0x114ed8320>"
      ]
     },
     "metadata": {},
     "output_type": "display_data"
    }
   ],
   "source": [
    "def CRAM_exp2():\n",
    "    epsilon = symbols(\"epsilon\")\n",
    "    p0, p1, p2, q1, q2 = symbols(\"p0, p1, p2, q1, q2\")\n",
    "    i = symbols(\"i\")\n",
    "    \n",
    "    E = exp(-(-t - 1)/(2*t - 2)) - (p0 + p1*t + p2*t**2)/(1 + q1*t + q2*t**2)\n",
    "    expr = E + (-1)**i*epsilon\n",
    "    expr = expr*(1 + q1*t + q2*t**2)\n",
    "    expr = simplify(expr)\n",
    "\n",
    "    system = Tuple(*[expr.subs({i: j, t: chebyshevt_root(7, 6-j)}) for j in range(1,7)])\n",
    "    sols = [dict(zip([p0, p1, p2, q1, q2, epsilon], nsolve(system, [p0, p1, p2, q1, q2, epsilon], [1, 1, 1, 1, 1, 0])))]\n",
    "    plot(E.subs(sols[0]), (t, -1, 1))\n",
    "    D = diff(E.subs(sols[0]), t)\n",
    "    extreme_x2 = [-1, *nsolve_intervals(D, [-1, 0.99]), 1]\n",
    "    return D\n",
    "\n",
    "D = CRAM_exp2()"
   ]
  },
  {
   "cell_type": "code",
   "execution_count": 9,
   "metadata": {
    "collapsed": false
   },
   "outputs": [
    {
     "data": {
      "text/plain": [
       "mpf('-0.39506511254484362')"
      ]
     },
     "execution_count": 9,
     "metadata": {},
     "output_type": "execute_result"
    }
   ],
   "source": [
    "nsolve(D, (-1, -0.39506511254484362 - 1e-20), solver='bisect', tol=1e-20)"
   ]
  },
  {
   "cell_type": "code",
   "execution_count": 10,
   "metadata": {
    "collapsed": false
   },
   "outputs": [],
   "source": [
    "#import mpmath\n",
    "#mpmath.findroot?"
   ]
  },
  {
   "cell_type": "code",
   "execution_count": 51,
   "metadata": {
    "collapsed": false
   },
   "outputs": [
    {
     "data": {
      "image/png": "[encoded data removed]",
      "text/plain": [
       "<matplotlib.figure.Figure at 0x114de66a0>"
      ]
     },
     "metadata": {},
     "output_type": "display_data"
    },
    {
     "data": {
      "text/plain": [
       "<sympy.plotting.plot.Plot at 0x114de6be0>"
      ]
     },
     "execution_count": 51,
     "metadata": {},
     "output_type": "execute_result"
    }
   ],
   "source": [
    "plot(sin(x), (x, -10, 13))"
   ]
  },
  {
   "cell_type": "code",
   "execution_count": 12,
   "metadata": {
    "collapsed": false
   },
   "outputs": [
    {
     "data": {
      "text/plain": [
       "mpf('-3.1415926535897932')"
      ]
     },
     "execution_count": 12,
     "metadata": {},
     "output_type": "execute_result"
    }
   ],
   "source": [
    "nsolve(sin(x), [-10, -0.1], solver='bisect')"
   ]
  },
  {
   "cell_type": "code",
   "execution_count": 56,
   "metadata": {
    "collapsed": false
   },
   "outputs": [
    {
     "name": "stdout",
     "output_type": "stream",
     "text": [
      "93\n"
     ]
    },
    {
     "data": {
      "text/plain": [
       "[mpf('-0.39506511254484362'),\n",
       " mpf('0.20691058995491739'),\n",
       " mpf('0.65489012733235114'),\n",
       " mpf('0.89772666518036314')]"
      ]
     },
     "execution_count": 56,
     "metadata": {},
     "output_type": "execute_result"
    }
   ],
   "source": [
    "bisect_roots(D, [-1, 0.9], solver='bisect')"
   ]
  },
  {
   "cell_type": "code",
   "execution_count": 14,
   "metadata": {
    "collapsed": false
   },
   "outputs": [
    {
     "data": {
      "image/png": "[encoded data removed]",
      "text/plain": [
       "<matplotlib.figure.Figure at 0x113876470>"
      ]
     },
     "metadata": {},
     "output_type": "display_data"
    },
    {
     "data": {
      "text/plain": [
       "<sympy.plotting.plot.Plot at 0x113870a58>"
      ]
     },
     "execution_count": 14,
     "metadata": {},
     "output_type": "execute_result"
    }
   ],
   "source": [
    "plot(D, (t, -1, 1))"
   ]
  },
  {
   "cell_type": "code",
   "execution_count": 15,
   "metadata": {
    "collapsed": false
   },
   "outputs": [
    {
     "data": {
      "text/plain": [
       "mpf('0.20691058995491739')"
      ]
     },
     "execution_count": 15,
     "metadata": {},
     "output_type": "execute_result"
    }
   ],
   "source": [
    "nsolve(D, [mpf('0.2069106899549174') + 1e-4, 0.999], solver='ridder')"
   ]
  },
  {
   "cell_type": "code",
   "execution_count": 58,
   "metadata": {
    "collapsed": false
   },
   "outputs": [],
   "source": [
    "intervals = [[i/30, (i+1)/30] for i in range(-30, 29)]"
   ]
  },
  {
   "cell_type": "code",
   "execution_count": 68,
   "metadata": {
    "collapsed": false
   },
   "outputs": [],
   "source": [
    "def catch_ValueError(f):\n",
    "    try:\n",
    "        return f()\n",
    "    except ValueError:\n",
    "        pass"
   ]
  },
  {
   "cell_type": "code",
   "execution_count": 69,
   "metadata": {
    "collapsed": false
   },
   "outputs": [
    {
     "data": {
      "text/plain": [
       "[None,\n",
       " None,\n",
       " None,\n",
       " None,\n",
       " None,\n",
       " None,\n",
       " None,\n",
       " None,\n",
       " None,\n",
       " None,\n",
       " None,\n",
       " None,\n",
       " None,\n",
       " None,\n",
       " None,\n",
       " None,\n",
       " None,\n",
       " None,\n",
       " mpf('-0.39506511254484362'),\n",
       " None,\n",
       " None,\n",
       " None,\n",
       " None,\n",
       " None,\n",
       " None,\n",
       " None,\n",
       " None,\n",
       " None,\n",
       " None,\n",
       " None,\n",
       " None,\n",
       " None,\n",
       " None,\n",
       " None,\n",
       " None,\n",
       " None,\n",
       " mpf('0.20691058995491739'),\n",
       " None,\n",
       " None,\n",
       " None,\n",
       " None,\n",
       " None,\n",
       " None,\n",
       " None,\n",
       " None,\n",
       " None,\n",
       " None,\n",
       " None,\n",
       " None,\n",
       " mpf('0.65489012733235114'),\n",
       " None,\n",
       " None,\n",
       " None,\n",
       " None,\n",
       " None,\n",
       " None,\n",
       " mpf('0.89772666518036314'),\n",
       " None,\n",
       " None]"
      ]
     },
     "execution_count": 69,
     "metadata": {},
     "output_type": "execute_result"
    }
   ],
   "source": [
    "[catch_ValueError(lambda: nsolve(D, b, solver='bisect')) for b in intervals]"
   ]
  },
  {
   "cell_type": "code",
   "execution_count": 42,
   "metadata": {
    "collapsed": false
   },
   "outputs": [
    {
     "data": {
      "image/png": "[encoded data removed]",
      "text/latex": [
       "$$9.99999999999998 \\cdot 10^{-8}$$"
      ],
      "text/plain": [
       "9.99999999999998e-8"
      ]
     },
     "execution_count": 42,
     "metadata": {},
     "output_type": "execute_result"
    }
   ],
   "source": [
    "sin(x).evalf(subs={x: mpf('9.9999999999999995e-8')})"
   ]
  },
  {
   "cell_type": "code",
   "execution_count": null,
   "metadata": {
    "collapsed": true
   },
   "outputs": [],
   "source": []
  }
 ],
 "metadata": {
  "kernelspec": {
   "display_name": "Python 3",
   "language": "python",
   "name": "python3"
  },
  "language_info": {
   "codemirror_mode": {
    "name": "ipython",
    "version": 3
   },
   "file_extension": ".py",
   "mimetype": "text/x-python",
   "name": "python",
   "nbconvert_exporter": "python",
   "pygments_lexer": "ipython3",
   "version": "3.5.2"
  }
 },
 "nbformat": 4,
 "nbformat_minor": 1
}
