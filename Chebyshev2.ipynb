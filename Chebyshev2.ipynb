{
 "cells": [
  {
   "cell_type": "markdown",
   "metadata": {},
   "source": [
    "chebyshev.ipynb was getting too big, so we're starting a new one"
   ]
  },
  {
   "cell_type": "code",
   "execution_count": 1,
   "metadata": {
    "collapsed": false
   },
   "outputs": [
    {
     "name": "stdout",
     "output_type": "stream",
     "text": [
      "IPython console for SymPy 1.0.1.dev (Python 3.5.2-64-bit) (ground types: gmpy)\n",
      "\n",
      "These commands were executed:\n",
      ">>> from __future__ import division\n",
      ">>> from sympy import *\n",
      ">>> x, y, z, t = symbols('x y z t')\n",
      ">>> k, m, n = symbols('k m n', integer=True)\n",
      ">>> f, g, h = symbols('f g h', cls=Function)\n",
      ">>> init_printing()\n",
      "\n",
      "Documentation can be found at http://docs.sympy.org/dev\n",
      "\n"
     ]
    }
   ],
   "source": [
    "import sys\n",
    "from sympy import init_session\n",
    "init_session()\n",
    "from mpmath import mpf\n",
    "%matplotlib inline"
   ]
  },
  {
   "cell_type": "markdown",
   "metadata": {},
   "source": [
    "Now we try to mechanise the CRAM process"
   ]
  },
  {
   "cell_type": "code",
   "execution_count": 2,
   "metadata": {
    "collapsed": false
   },
   "outputs": [
    {
     "name": "stdout",
     "output_type": "stream",
     "text": [
      "115\n"
     ]
    },
    {
     "data": {
      "image/png": "[encoded data removed]",
      "text/latex": [
       "$$\\left [ -9.42477796076938, \\quad -6.28318530717959, \\quad -3.14159265358979, \\quad 0, \\quad 3.14159265358979, \\quad 6.28318530717959, \\quad 9.42477796076938, \\quad 12.5663706143592\\right ]$$"
      ],
      "text/plain": [
       "[-9.42477796076938, -6.28318530717959, -3.14159265358979, 0, 3.14159265358979,\n",
       " 6.28318530717959, 9.42477796076938, 12.5663706143592]"
      ]
     },
     "execution_count": 2,
     "metadata": {},
     "output_type": "execute_result"
    }
   ],
   "source": [
    "def bisect_roots(expr, bounds, eps=1e-7, division_cutoff=30, solver='bisect', **kwargs):\n",
    "    \"\"\"\n",
    "    Numerically find all the roots of expr in bounds via bisection\n",
    "    \n",
    "    division_cutoff is the fraction of bounds to check for roots. \n",
    "    One should expect the roots to be no more than |bounds|/division_cutoff apart.\n",
    "    \"\"\"\n",
    "    roots = []\n",
    "    intervals = [bounds]\n",
    "    var = expr.free_symbols.pop()\n",
    "    N = 0\n",
    "    while intervals:\n",
    "        N += 1\n",
    "        #print(intervals)\n",
    "        b = intervals.pop()\n",
    "        try:\n",
    "            root = nsolve(expr, b, solver=solver, **kwargs)\n",
    "        except ValueError:\n",
    "            # No root found\n",
    "            if (b[1] - b[0]) > (bounds[1] - bounds[0])/division_cutoff and sign(expr.evalf(subs={var: b[0]})) == sign(expr.evalf(subs={var: b[1]})):\n",
    "                # The bisect method will only work if the interval has alternate signs.\n",
    "                # If not, it will miss 2 roots, so try again with split intervals.\n",
    "                intervals.append([b[0], (b[0] + b[1])/2])\n",
    "                intervals.append([(b[0] + b[1])/2, b[1]])\n",
    "                continue\n",
    "        else:\n",
    "            if root not in roots:\n",
    "                roots.append(root)\n",
    "                intervals.append([b[0], root - eps])\n",
    "                intervals.append([root + eps, b[1]])\n",
    "    \n",
    "    print(N)\n",
    "    return sorted(roots)\n",
    "\n",
    "bisect_roots(sin(x), [-10, 13])"
   ]
  },
  {
   "cell_type": "code",
   "execution_count": 3,
   "metadata": {
    "collapsed": false
   },
   "outputs": [],
   "source": [
    "def nsolve_intervals(expr, bounds, division=30, warn=False, verbose=False, solver='bisect', **kwargs):\n",
    "    \"\"\"\n",
    "    Divide bounds into division intervals and nsolve in each one\n",
    "    \"\"\"\n",
    "    if verbose:\n",
    "        warn = True\n",
    "    roots = []\n",
    "    L = bounds[1] - bounds[0]\n",
    "    for i in range(division):\n",
    "        interval = [bounds[0] + i*L/division, bounds[0] + (i + 1)*L/division]\n",
    "        try:\n",
    "            if verbose:\n",
    "                print(\"Solving in interval\", interval)\n",
    "            root = nsolve(expr, interval, solver=solver, **kwargs)\n",
    "        except ValueError:\n",
    "            if verbose:\n",
    "                print(\"No solution found\")\n",
    "            continue\n",
    "        else:\n",
    "            if interval[0] < root < interval[1]:\n",
    "                if verbose:\n",
    "                    print(\"Solution found:\", root)\n",
    "                roots.append(root)\n",
    "            else:\n",
    "                if warn:\n",
    "                    print(root, \"is not in\", interval, 'discarding', file=sys.stderr)\n",
    "            \n",
    "    return roots\n",
    "        \n",
    "#nsolve_intervals(D, [-1, 0.99])"
   ]
  },
  {
   "cell_type": "code",
   "execution_count": 4,
   "metadata": {
    "collapsed": false
   },
   "outputs": [
    {
     "data": {
      "image/png": "[encoded data removed]",
      "text/latex": [
       "$$\\left ( \\frac{p_{0} + p_{1} x + p_{2} \\left(2 x^{2} - 1\\right) + p_{3} \\left(4 x^{3} - 3 x\\right)}{q_{1} x + q_{2} \\left(2 x^{2} - 1\\right) + q_{3} \\left(4 x^{3} - 3 x\\right) + 1}, \\quad \\left ( p_{0}, \\quad p_{1}, \\quad p_{2}, \\quad p_{3}\\right ), \\quad \\left ( q_{1}, \\quad q_{2}, \\quad q_{3}\\right )\\right )$$"
      ],
      "text/plain": [
       "⎛               ⎛   2    ⎞      ⎛   3      ⎞                                ⎞\n",
       "⎜p₀ + p₁⋅x + p₂⋅⎝2⋅x  - 1⎠ + p₃⋅⎝4⋅x  - 3⋅x⎠                                ⎟\n",
       "⎜───────────────────────────────────────────, (p₀, p₁, p₂, p₃), (q₁, q₂, q₃)⎟\n",
       "⎜           ⎛   2    ⎞      ⎛   3      ⎞                                    ⎟\n",
       "⎝ q₁⋅x + q₂⋅⎝2⋅x  - 1⎠ + q₃⋅⎝4⋅x  - 3⋅x⎠ + 1                                ⎠"
      ]
     },
     "execution_count": 4,
     "metadata": {},
     "output_type": "execute_result"
    }
   ],
   "source": [
    "def general_rat_func(d, x, chebyshev=False):\n",
    "    \"\"\"\n",
    "    Return a general rational function with numerator and denominator degree d\n",
    "    \n",
    "    Returns a tuple, (rational function, numerator coefficients, denominator coefficients)\n",
    "    \n",
    "    The constant coefficient in the denominator is always 1.\n",
    "    \"\"\"\n",
    "    num_coeffs = symbols('p:%s' % (d+1))\n",
    "    den_coeffs = symbols('q:%s' % (d+1))[1:]\n",
    "    if chebyshev:\n",
    "        num = Add(*(Mul(c, chebyshevt(i, x)) for i, c in enumerate(num_coeffs)))\n",
    "        den = Add(*(Mul(c, chebyshevt(i, x)) for i, c in enumerate([1, *den_coeffs])))\n",
    "        rat_func = num/den\n",
    "    else:\n",
    "        rat_func = Poly(reversed(num_coeffs), x)/Poly([*reversed(den_coeffs), 1], x)\n",
    "    return rat_func, num_coeffs, den_coeffs\n",
    "\n",
    "general_rat_func(3, x)\n",
    "general_rat_func(3, x, chebyshev=True)"
   ]
  },
  {
   "cell_type": "code",
   "execution_count": null,
   "metadata": {
    "collapsed": false,
    "scrolled": false
   },
   "outputs": [
    {
     "name": "stdout",
     "output_type": "stream",
     "text": [
      "--------------------------------------------------------------------------------\n",
      "Iteration 0:\n",
      "sol {p2: 1.00813170178230233891518184694, p19: -0.00000000493479263678940071525439736338, p10: 0.0149179609718773676144731009761, p20: 1.67187484006142206255302054437e-10, q2: 1.38464791865776263995523773658, q17: 0.0000000582038509807649331141067010060, p3: -0.817204309052018227524337476244, q13: 0.0000434352601985250185132571812878, q15: 0.00000231409608391879327590096837692, epsilon: -1.64048128484478502472545767951e-21, q12: 0.000172172704871281042081093685950, p9: -0.0354962447059517368914034270553, p16: 0.00000506260074180559848656952958970, q11: 0.000432759700548913785576893963048, q20: 1.64338853727599038172977349379e-11, p1: -1.14296803557045731748102544002, p7: -0.147048492014211646493441919549, q7: -0.00658729305805802085336407379932, q19: 4.50348052272506520964012786914e-10, p11: -0.00559989534114397443313929303798, q9: 0.00185021320591258898489379044739, q14: 0.0000112392214434925694559173228835, p14: 0.000136014974497823862448148080441, q18: 0.00000000624805665546497158481875543029, p6: 0.258608445950096586191081930730, q4: 0.499111173298502944784735600973, p17: -0.000000702045018470762250543146513821, p5: -0.414700316894537184422868666452, p8: 0.0759668469443619189556684627422, p13: -0.000541617848808953894427581255732, q5: -0.123961284402742198287530424800, q10: 0.00182360998781012952743870522467, q1: -1.37576610973820042620538273794, q6: 0.106168090145831046120009935305, q3: -0.615698156533728974685530620672, q8: 0.0155583715935747049860208101161, q16: 0.000000412182576968909437168821162934, p12: 0.00186118778368476933206674642592, p15: -0.0000289100293850457187569274529812, p4: 0.608101385825161333402935098957, p18: 0.0000000723654645623848255310314387863, p0: 0.595859849070949204149198781733}\n",
      "system.subs(sol) [-4.37956469353657e-31, -7.04625544278375e-31, -8.24298016197737e-32, -3.69585956327911e-31, -1.66592940189496e-31, 5.25297392331619e-32, -1.69674428100515e-31, -2.33037523270856e-32, -1.73237398497632e-31, 1.75211476690629e-31, -4.28519412626160e-32, 7.14459824056902e-32, -1.77173517821473e-31, -1.88383031950915e-31, -6.26092741530447e-32, -7.12137987615158e-32, -1.56687378433535e-31, 5.26418343744563e-32, -2.90206985726487e-32, -8.75852024590055e-32, -6.70057640844422e-32, -1.48479253846377e-31, -2.32965460875375e-32, -5.90077248291552e-33, -6.74866065803560e-32, -1.02905516925064e-31, -6.42703383719148e-32, 1.12250098189584e-31, -1.98204506014770e-32, 5.17315777894977e-32, 3.00724100771365e-32, -5.20039728868551e-32, 6.76964020877560e-32, -1.87478109950724e-32, 7.05903439359222e-32, -2.91466784862858e-32, -3.49613143748034e-32, 1.18533022218474e-31, 3.28863703160947e-31, 6.20413139241182e-32, 2.21975009549583e-31, 3.92286374148491e-31]\n"
     ]
    },
    {
     "data": {
      "image/png": "[encoded data removed]",
      "text/plain": [
       "<matplotlib.figure.Figure at 0x1111d8ef0>"
      ]
     },
     "metadata": {},
     "output_type": "display_data"
    },
    {
     "name": "stdout",
     "output_type": "stream",
     "text": [
      "exp((12.0*t + 12.0)/(t - 1)) - (0.0000876543916146122850331798035167*t**20 - 0.00129362628097852066109964874243*t**19 + 0.00904681421304784242683745372701*t**18 - 0.0398644974958519017113723184032*t**17 + 0.124139741248347039402372793657*t**16 - 0.290412176209260534274664540495*t**15 + 0.529604201329879649031951233831*t**14 - 0.770986508811566569114254220953*t**13 + 0.910044007911566047590793264474*t**12 - 0.879610173016699343668031053517*t**11 + 0.700052519466409496561491392368*t**10 - 0.459597390269044354309998459677*t**9 + 0.248487854857047964228491499477*t**8 - 0.110047707472865792687302099818*t**7 + 0.0395348672322393084915030590132*t**6 - 0.011345086025127057904548561444*t**5 + 0.0025398170506913266107986972795*t**4 - 0.000427537868347556447569271445562*t**3 + 0.0000509143876340713067485418887759*t**2 - 0.00000382498658356363221181496960072*t + 0.000000136347847836476487307883839727)/(0.00000861608889431354445256339485514*t**20 + 0.000118056039814923949431590168013*t**19 + 0.000775864837473537033302546937483*t**18 + 0.00325368138875452189676604345907*t**17 + 0.00991269085786633444691228033443*t**16 + 0.0228242804111967912615556612658*t**15 + 0.0448482570418551333037086971637*t**14 + 0.0628760401989342395550936455184*t**13 + 0.11124027560446116958142848698*t**12 + 0.0526566555337328671477241615294*t**11 + 0.248752517657179973868834347034*t**10 - 0.171527937354243530680028703587*t**9 + 0.578603294796395159990378272999*t**8 - 0.639777132045496311970367227996*t**7 + 0.936962715479528371899147860764*t**6 - 0.866327864470552724177311632306*t**5 + 0.784799555730298337851724344184*t**4 - 0.493835321770960042172548585068*t**3 + 0.269397940427855595754338358717*t**2 - 0.0899445207469673752224233325625*t + 0.0221912655350558214579206981598)\n",
      "D (12.0/(t - 1) - (12.0*t + 12.0)/(t - 1)**2)*exp((12.0*t + 12.0)/(t - 1)) - (-0.000172321777886270889051267897103*t**19 - 0.00224306475648355503920021319224*t**18 - 0.0139655670745236665994458448747*t**17 - 0.0553125836088268722450227388042*t**16 - 0.158603053725861351150596485351*t**15 - 0.342364206167951868923334918987*t**14 - 0.627875598585971866251921760291*t**13 - 0.817388522586145114216217391739*t**12 - 1.33488330725353403497714184376*t**11 - 0.579223210871061538624965776823*t**10 - 2.48752517657179973868834347034*t**9 + 1.54375143618819177612025833229*t**8 - 4.62882635837116127992302618399*t**7 + 4.47843992431847418379257059598*t**6 - 5.62177629287717023139488716459*t**5 + 4.33163932235276362088655816153*t**4 - 3.13919822292119335140689737673*t**3 + 1.4815059653128801265176457552*t**2 - 0.538795880855711191508676717433*t + 0.0899445207469673752224233325625)*(0.0000876543916146122850331798035167*t**20 - 0.00129362628097852066109964874243*t**19 + 0.00904681421304784242683745372701*t**18 - 0.0398644974958519017113723184032*t**17 + 0.124139741248347039402372793657*t**16 - 0.290412176209260534274664540495*t**15 + 0.529604201329879649031951233831*t**14 - 0.770986508811566569114254220953*t**13 + 0.910044007911566047590793264474*t**12 - 0.879610173016699343668031053517*t**11 + 0.700052519466409496561491392368*t**10 - 0.459597390269044354309998459677*t**9 + 0.248487854857047964228491499477*t**8 - 0.110047707472865792687302099818*t**7 + 0.0395348672322393084915030590132*t**6 - 0.011345086025127057904548561444*t**5 + 0.0025398170506913266107986972795*t**4 - 0.000427537868347556447569271445562*t**3 + 0.0000509143876340713067485418887759*t**2 - 0.00000382498658356363221181496960072*t + 0.000000136347847836476487307883839727)/(0.00000861608889431354445256339485514*t**20 + 0.000118056039814923949431590168013*t**19 + 0.000775864837473537033302546937483*t**18 + 0.00325368138875452189676604345907*t**17 + 0.00991269085786633444691228033443*t**16 + 0.0228242804111967912615556612658*t**15 + 0.0448482570418551333037086971637*t**14 + 0.0628760401989342395550936455184*t**13 + 0.11124027560446116958142848698*t**12 + 0.0526566555337328671477241615294*t**11 + 0.248752517657179973868834347034*t**10 - 0.171527937354243530680028703587*t**9 + 0.578603294796395159990378272999*t**8 - 0.639777132045496311970367227996*t**7 + 0.936962715479528371899147860764*t**6 - 0.866327864470552724177311632306*t**5 + 0.784799555730298337851724344184*t**4 - 0.493835321770960042172548585068*t**3 + 0.269397940427855595754338358717*t**2 - 0.0899445207469673752224233325625*t + 0.0221912655350558214579206981598)**2 - (0.00175308783229224570066359607033*t**19 - 0.0245788993385918925608933261061*t**18 + 0.162842655834861163683074167086*t**17 - 0.677696457429482329093329412855*t**16 + 1.98623585997355263043796469851*t**15 - 4.35618264313890801411996810743*t**14 + 7.41445881861831508644731727364*t**13 - 10.0228246145503653984853048724*t**12 + 10.9205280949387925710895191737*t**11 - 9.67571190318369278034834158869*t**10 + 7.00052519466409496561491392368*t**9 - 4.13637651242139918878998613709*t**8 + 1.98790283885638371382793199582*t**7 - 0.770333952310060548811114698726*t**6 + 0.237209203393435850949018354079*t**5 - 0.0567254301256352895227428072199*t**4 + 0.010159268202765306443194789118*t**3 - 0.00128261360504266934270781433669*t**2 + 0.000101828775268142613497083777552*t - 0.00000382498658356363221181496960072)/(0.00000861608889431354445256339485514*t**20 + 0.000118056039814923949431590168013*t**19 + 0.000775864837473537033302546937483*t**18 + 0.00325368138875452189676604345907*t**17 + 0.00991269085786633444691228033443*t**16 + 0.0228242804111967912615556612658*t**15 + 0.0448482570418551333037086971637*t**14 + 0.0628760401989342395550936455184*t**13 + 0.11124027560446116958142848698*t**12 + 0.0526566555337328671477241615294*t**11 + 0.248752517657179973868834347034*t**10 - 0.171527937354243530680028703587*t**9 + 0.578603294796395159990378272999*t**8 - 0.639777132045496311970367227996*t**7 + 0.936962715479528371899147860764*t**6 - 0.866327864470552724177311632306*t**5 + 0.784799555730298337851724344184*t**4 - 0.493835321770960042172548585068*t**3 + 0.269397940427855595754338358717*t**2 - 0.0899445207469673752224233325625*t + 0.0221912655350558214579206981598)\n",
      "[(i, D.subs(t, i)) for i in points] [(-1, -1.90823601130554778834584124116e-17), (-0.989371941971847993590609794374, 0), (-0.973820304871040598594043053874, -2.36658271566303541623518569585e-30), (-0.951870045949767883483042494756, 7.88860905221011805411728565283e-31), (-0.923702905824504375361818663610, 1.57772181044202361082345713057e-30), (-0.889619408123251639730211218719, 1.18329135783151770811759284792e-30), (-0.849997113529467802251301266038, 3.94430452610505902705864282641e-31), (-0.805269840621110844384592314584, -7.88860905221011805411728565283e-31), (-0.755909990201805754685914237321, -5.91645678915758854058796423962e-31), (-0.702409888275269865989418725804, 2.95822839457879427029398211981e-31), (-0.645261340525241717009383886708, 2.95822839457879427029398211981e-31), (-0.584934829948439503804127038670, 1.97215226305252951352932141321e-31), (-0.521862224690670671295958707972, 9.86076131526264756764660706603e-32), (-0.456428490375731472711377130460, 9.86076131526264756764660706603e-32), (-0.388976511751427588808848321240, 4.00593428432545057435643412058e-32), (-0.319823876452505861300014120382, 3.38963670212153510137852117895e-32), (-0.249284473118068302637786948915, -4.62223186652936604733434706220e-33), (-0.177686035955590142638638346923, -3.85185988877447170611195588517e-34), (-0.105378532616201799724301539740, -5.29630734706489859590393934211e-34), (-0.0327329334769123497053987981447, -4.93519548249229187345594347787e-34), (0.0398612925262148078652687378466, 8.57640678359940965813990177557e-35), (0.112012038584786759032694636211, 1.55259293856607734052510721836e-34), (0.183333170866923660162283139196, -3.93370368295047347385427916657e-33), (0.253457893087598129382335038133, -1.39588988050727059503741851990e-32), (0.322056133239725451493920650836, 2.75753500359494076999218958333e-32), (0.388844154263363088777588330621, -3.81886208139857799765694873136e-32), (0.453576281373514923392521250291, 1.63183990572376871936051002219e-31), (0.516004096410097765093190344564, -1.72527105874508464335636630311e-31), (0.575787866465447357737134561260, -1.15837912356980948458528699331e-30), (0.632284746239631945629933836469, -6.74388253883291631561293495146e-31), (0.683683999610735882478147487562, 1.98961028012876855618249275484e-31), (0.724020401011815877510916691644, 6.74230246986642455393887683629e-31), (0.756718627691288832049391212596, -9.17231170969835644275636324660e-31), (0.797330346920261728427519361985, -9.08999196058580006601439699715e-31), (0.839211744865831317700324833905, -1.41067627819055249023031580717e-30), (0.878107564377242177186942428288, 3.74077704744693302690781273761e-30), (0.912710817437585221906531150275, -1.52125174708229204124380373157e-30), (0.942297265177836057222083544518, 6.80157495025557004750059467062e-30), (0.966307869813598541432432501760, 4.31950519635053827385477467719e-30), (0.984290872407346717916812198820, -6.95543694231597327061871245559e-31), (0.996056801561334472817303940376, 5.53929646561656648521604738848e-30), (1, nan)]\n",
      "max - min 1.60403543097625e-18\n",
      "epsilon -1.64048128484478e-21\n",
      "--------------------------------------------------------------------------------\n",
      "Iteration 1:\n",
      "sol {p2: 1.04017602990790657264608654010, p19: -0.00000000540830353878920693301747122025, p10: 0.0156059610415076795077446448569, p20: 1.84778401035360736069029716619e-10, q2: 1.38367005255863420019650330612, q17: 0.0000000502571482989488698819570481570, p3: -0.843756067599622312545095040455, q13: 0.0000350527138047423986553030935819, q15: 0.00000193237486994405525715765858073, epsilon: -5.83916232050683414945574940417e-21, q12: 0.000142370822397349427487596166351, p9: -0.0370276524842670665206066009356, p16: 0.00000543539711511522156259310563911, q11: 0.000327306444680178403202689459476, q20: 1.51204174773079965716076026332e-11, p1: -1.17881704287470226143496796354, p7: -0.152679028132931004669752683010, q7: -0.0116843846956660455121154287952, q19: 4.04774060873521375481169729449e-10, p11: -0.00587705959449287723044615295572, q9: 0.000979568975108128076800488671532, q14: 0.00000933024589613051663853882756670, p14: 0.000144495483791561297745877581352, q18: 0.00000000549992718686598064642577744556, p6: 0.268015073721240908125782606175, q4: 0.494429601175727083772721771182, p17: -0.000000758401209661496994340636373825, p5: -0.429122127323079666322149837129, p8: 0.0790465830462745050209679028993, p13: -0.000572799399003509106402207812771, q5: -0.145071289497643077250134373391, q10: 0.00155830198945308303854266004288, q1: -1.47089569565156733870436286428, q6: 0.102308928649744593672151119163, q3: -0.673157159563841716742496295100, q8: 0.0141832564819770168630707231223, q16: 0.000000350407094447678927804612687846, p12: 0.00196038917768003004302368106073, p15: -0.0000308668245402693479494593557788, p4: 0.628463884527773200666200014484, p18: 0.0000000787104524725297934455048037586, p0: 0.614465476843631721373372124749}\n",
      "system.subs(sol) [1.35527690186530e-30, -3.58054450785892e-31, 8.12212805796707e-31, -3.31741432920701e-31, -2.61252396956129e-31, -1.01327989199073e-31, -3.89314701195727e-31, 1.79231855449537e-31, 2.85206150639445e-31, 1.82686492287282e-31, 2.48091374125226e-32, -3.45463683774460e-33, -1.55350324139135e-31, -1.32475392151230e-31, 1.83228536242333e-31, 1.27722633391985e-32, 7.97201460818062e-33, -1.00661601451592e-31, 1.84189444099413e-32, 3.10450504549784e-32, 1.67767932200154e-32, 2.17540064725714e-32, 4.48197250593158e-32, -7.00259651363980e-32, -5.33613139411467e-32, 1.09955025427035e-31, 2.90781655724845e-32, 9.36878200281495e-32, 4.74388839511893e-33, 1.26916075262441e-31, 1.18418371582104e-32, -5.84666186617836e-33, 9.46658582021796e-32, -4.11693445769130e-32, 2.20109941078930e-31, 1.27726382016999e-31, 1.87871696668217e-31, -7.87388517943767e-32, 1.73457146987961e-31, 1.79817308797519e-31, 1.45152057513255e-31, 1.29540452389765e-31]\n"
     ]
    },
    {
     "data": {
      "image/png": "[encoded data removed]",
      "text/plain": [
       "<matplotlib.figure.Figure at 0x11456d278>"
      ]
     },
     "metadata": {},
     "output_type": "display_data"
    },
    {
     "name": "stdout",
     "output_type": "stream",
     "text": [
      "exp((12.0*t + 12.0)/(t - 1)) - (0.0000968770983220272095921594520668*t**20 - 0.00141775432287235786224893197556*t**19 + 0.00983235093486928903852840837791*t**18 - 0.0429682486427321671754255185111*t**17 + 0.132711097918609706375766154388*t**16 - 0.307954747210462961655598170919*t**15 + 0.557115132417482639529376283525*t**14 - 0.804660236271174479365720417127*t**13 + 0.942444888847378627674909343802*t**12 - 0.904006899936957470676397404461*t**11 + 0.714108864712387168070357501298*t**10 - 0.465405926865420193334423028187*t**9 + 0.249834163033843145870750185547*t**8 - 0.109873958324663923569543024406*t**7 + 0.0392047407731222879695156326018*t**6 - 0.0111760973647903035948303940559*t**5 + 0.00248593689772335705682132684965*t**4 - 0.000415862641641151738710481832789*t**3 + 0.0000492250960601394186892325854601*t**2 - 0.0000036764614371584906738473672092*t + 0.000000130312353779253333938153767723)/(0.00000792745343834285490653500676937*t**20 + 0.000106109091413628387454135757557*t**19 + 0.000681249189045183540755644467497*t**18 + 0.00278963428670517829617679225962*t**17 + 0.00832237981057789577088604524623*t**16 + 0.0186700432361832401836036351745*t**15 + 0.036488202004174559507867389413*t**14 + 0.048244804209359231382307330996*t**13 + 0.092612928265856723556319708701*t**12 + 0.0245976046762056824814801329714*t**11 + 0.231401278248588330570470073298*t**10 - 0.211939314115601870282317544375*t**9 + 0.582456580786572497155272668504*t**8 - 0.688195194548677608147563257204*t**7 + 0.958499712750579745480908086889*t**6 - 0.901604772985562557967517344618*t**5 + 0.796488375180989975747447642335*t**4 - 0.502786856731480099787206350294*t**3 + 0.268134604197487134394798747289*t**2 - 0.0893466753568776499992195959153*t + 0.0212089599586611209296996210801)\n"
     ]
    }
   ],
   "source": [
    "from sympy.utilities.decorator import conserve_mpmath_dps\n",
    "\n",
    "@conserve_mpmath_dps\n",
    "def CRAM_exp2(degree, prec=128, *, max_loops=10):\n",
    "    #mpmath.mp.dps = prec\n",
    "\n",
    "\n",
    "    epsilon = symbols(\"epsilon\")\n",
    "    i = symbols(\"i\")\n",
    "    #c = S(1)/2\n",
    "    #c = 10\n",
    "    c = degree*0.6\n",
    "    \n",
    "    r, num_coeffs, den_coeffs = general_rat_func(degree, t, chebyshev=True)\n",
    "    E = exp(c*(t + 1)/(t - 1)) - r\n",
    "    expr = E + (-1)**i*epsilon\n",
    "    expr = expr*r.as_numer_denom()[1]\n",
    "    expr = simplify(expr)\n",
    "\n",
    "    points = [chebyshevt_root(2*(degree + 1) + 1, 2*(degree + 1) - j) for j in range(1, 2*(degree + 1) + 1)]\n",
    "    points = [i.evalf(prec) for i in points]\n",
    "    for iteration in range(max_loops):\n",
    "        print('-'*80)\n",
    "        print(\"Iteration %s:\" % iteration)\n",
    "        system = Tuple(*[expr.subs({i: j, t: points[j]}) for j in range(2*degree + 1)])\n",
    "        system = system + Tuple(expr.replace(exp, lambda i: 0).subs({i: 2*degree + 1, t: 1}))\n",
    "        #print(system)\n",
    "        #print([*num_coeffs, *den_coeffs, epsilon])\n",
    "        sol = dict(zip([*num_coeffs, *den_coeffs, epsilon], nsolve(system, [*num_coeffs, *den_coeffs, epsilon], [*[1]*(2*(degree + 1) - 1), 0], prec=prec)))\n",
    "        print('sol', sol)\n",
    "        print('system.subs(sol)', [i.evalf() for i in system.subs(sol)])\n",
    "        D = diff(E.subs(sol), t)\n",
    "        plot(E.subs(sol), (t, -1, 0.999), adaptive=False, nb_of_points=1000)\n",
    "        plot(E.subs(sol), (t, -0.5, 0.5), adaptive=False, nb_of_points=1000)\n",
    "        #plot(E.subs(sol), (t, 0.9, 1))\n",
    "        # we can't use 1 because of the singularity\n",
    "        print(E.subs(sol))\n",
    "        points = [-1, *nsolve_intervals(D, [-1, 0.999999], maxsteps=1000, prec=prec, division=1000, warn=True, tol=10**-(2*prec)), 1]\n",
    "        #points2 = [-1, *nsolve_intervals(D, [-1, 0.999999], maxsteps=300, prec=prec, solver='illinois', verify=True), 1]\n",
    "        #print('points', points)\n",
    "        #print('points2', points2)\n",
    "        print('D', D)\n",
    "        print('[(i, D.subs(t, i)) for i in points]', [(i, D.subs(t, i)) for i in points])\n",
    "        assert len(points) == 2*(degree + 1), len(points)\n",
    "        Evals = [E.evalf(prec, subs={**sol, t: point}) for point in points[:-1]] + [-r.evalf(prec, subs={**sol, t: 1})]\n",
    "        #print('Evals', Evals)\n",
    "        maxmin = N(max(map(abs, Evals)) - min(map(abs, Evals)))\n",
    "        print('max - min', maxmin)\n",
    "        print('epsilon', N(sol[epsilon]))\n",
    "        if maxmin < 10**-prec:\n",
    "            print(\"Converged in\", iteration + 1, \"iterations.\")\n",
    "            break\n",
    "    else:\n",
    "        print(\"!!!WARNING: DID NOT CONVERGE AFTER\", max_loops, \"ITERATIONS!!!\", file=sys.stderr)\n",
    "        \n",
    "    #print(sol)\n",
    "    #sol = {i: Rational(str(sol[i])) for i in sol}\n",
    "    #print(sol)\n",
    "    inv = solve(-c*(t + 1)/(t - 1) - y, t)[0].subs(y, t)\n",
    "    n, d = together(r.subs(sol).subs(t, inv)).as_numer_denom() # simplify/cancel here will add degree to the numerator and denominator\n",
    "    rat_func = (Poly(n)/Poly(d).TC())/(Poly(d)/Poly(d).TC())\n",
    "    return rat_func.evalf(prec)\n",
    "\n",
    "#D = CRAM_exp2()\n",
    "\n",
    "rat_func = CRAM_exp2(20, 30)\n",
    "print(rat_func)\n",
    "plot(rat_func - exp(-t), (t, 0, 100))"
   ]
  },
  {
   "cell_type": "code",
   "execution_count": 6,
   "metadata": {
    "collapsed": true
   },
   "outputs": [],
   "source": [
    "!say done"
   ]
  },
  {
   "cell_type": "code",
   "execution_count": 7,
   "metadata": {
    "collapsed": false,
    "scrolled": true
   },
   "outputs": [
    {
     "data": {
      "image/png": "[encoded data removed]",
      "text/plain": [
       "<matplotlib.figure.Figure at 0x1145704e0>"
      ]
     },
     "metadata": {},
     "output_type": "display_data"
    },
    {
     "data": {
      "text/plain": [
       "<sympy.plotting.plot.Plot at 0x114570198>"
      ]
     },
     "execution_count": 7,
     "metadata": {},
     "output_type": "execute_result"
    }
   ],
   "source": [
    "correct_rat_func2 = (9.92641e-1 + -1.88332e-1*t + 4.21096e-3*t**2)/(1 + 6.69295e-1*t + 5.72258e-1*t**2)\n",
    "plot(correct_rat_func2 - exp(-t), (t, 0, 100))"
   ]
  },
  {
   "cell_type": "code",
   "execution_count": 8,
   "metadata": {
    "collapsed": false,
    "scrolled": false
   },
   "outputs": [],
   "source": [
    "#plot(rat_func - correct_rat_func2, (t, 0, 100))"
   ]
  },
  {
   "cell_type": "code",
   "execution_count": 9,
   "metadata": {
    "collapsed": false
   },
   "outputs": [
    {
     "data": {
      "image/png": "[encoded data removed]",
      "text/plain": [
       "<matplotlib.figure.Figure at 0x11193f2b0>"
      ]
     },
     "metadata": {},
     "output_type": "display_data"
    },
    {
     "data": {
      "text/plain": [
       "<sympy.plotting.plot.Plot at 0x11193fa90>"
      ]
     },
     "execution_count": 9,
     "metadata": {},
     "output_type": "execute_result"
    }
   ],
   "source": [
    "plot((correct_rat_func2 - exp(-t))/correct_rat_func2, (t, 20, 100))"
   ]
  },
  {
   "cell_type": "code",
   "execution_count": 10,
   "metadata": {
    "collapsed": false,
    "scrolled": true
   },
   "outputs": [
    {
     "ename": "NameError",
     "evalue": "name 'D' is not defined",
     "output_type": "error",
     "traceback": [
      "\u001b[0;31m---------------------------------------------------------------------------\u001b[0m",
      "\u001b[0;31mNameError\u001b[0m                                 Traceback (most recent call last)",
      "\u001b[0;32m<ipython-input-10-27170cc9c13b>\u001b[0m in \u001b[0;36m<module>\u001b[0;34m()\u001b[0m\n\u001b[0;32m----> 1\u001b[0;31m \u001b[0mnsolve\u001b[0m\u001b[0;34m(\u001b[0m\u001b[0mD\u001b[0m\u001b[0;34m,\u001b[0m \u001b[0;34m(\u001b[0m\u001b[0;34m-\u001b[0m\u001b[0;36m1\u001b[0m\u001b[0;34m,\u001b[0m \u001b[0;34m-\u001b[0m\u001b[0;36m0.39506511254484362\u001b[0m \u001b[0;34m-\u001b[0m \u001b[0;36m1e-20\u001b[0m\u001b[0;34m)\u001b[0m\u001b[0;34m,\u001b[0m \u001b[0msolver\u001b[0m\u001b[0;34m=\u001b[0m\u001b[0;34m'bisect'\u001b[0m\u001b[0;34m,\u001b[0m \u001b[0mtol\u001b[0m\u001b[0;34m=\u001b[0m\u001b[0;36m1e-20\u001b[0m\u001b[0;34m)\u001b[0m\u001b[0;34m\u001b[0m\u001b[0m\n\u001b[0m",
      "\u001b[0;31mNameError\u001b[0m: name 'D' is not defined"
     ]
    }
   ],
   "source": [
    "nsolve(D, (-1, -0.39506511254484362 - 1e-20), solver='bisect', tol=1e-20)"
   ]
  },
  {
   "cell_type": "code",
   "execution_count": null,
   "metadata": {
    "collapsed": false
   },
   "outputs": [],
   "source": [
    "#import mpmath\n",
    "#mpmath.findroot?"
   ]
  },
  {
   "cell_type": "code",
   "execution_count": null,
   "metadata": {
    "collapsed": false
   },
   "outputs": [],
   "source": [
    "plot(sin(x), (x, -10, 13))"
   ]
  },
  {
   "cell_type": "code",
   "execution_count": null,
   "metadata": {
    "collapsed": false
   },
   "outputs": [],
   "source": [
    "nsolve(sin(x), [-10, -0.1], solver='bisect')"
   ]
  },
  {
   "cell_type": "code",
   "execution_count": null,
   "metadata": {
    "collapsed": false
   },
   "outputs": [],
   "source": [
    "bisect_roots(D, [-1, 0.9], solver='bisect')"
   ]
  },
  {
   "cell_type": "code",
   "execution_count": null,
   "metadata": {
    "collapsed": false
   },
   "outputs": [],
   "source": [
    "plot(D, (t, -1, 1))"
   ]
  },
  {
   "cell_type": "code",
   "execution_count": null,
   "metadata": {
    "collapsed": false
   },
   "outputs": [],
   "source": [
    "nsolve(D, [mpf('0.2069106899549174') + 1e-4, 0.999], solver='ridder')"
   ]
  },
  {
   "cell_type": "code",
   "execution_count": null,
   "metadata": {
    "collapsed": false
   },
   "outputs": [],
   "source": [
    "intervals = [[i/30, (i+1)/30] for i in range(-30, 29)]"
   ]
  },
  {
   "cell_type": "code",
   "execution_count": null,
   "metadata": {
    "collapsed": false
   },
   "outputs": [],
   "source": [
    "def catch_ValueError(f):\n",
    "    try:\n",
    "        return f()\n",
    "    except ValueError:\n",
    "        pass"
   ]
  },
  {
   "cell_type": "code",
   "execution_count": null,
   "metadata": {
    "collapsed": false
   },
   "outputs": [],
   "source": [
    "[catch_ValueError(lambda: nsolve(D, b, solver='bisect')) for b in intervals]"
   ]
  },
  {
   "cell_type": "code",
   "execution_count": null,
   "metadata": {
    "collapsed": false
   },
   "outputs": [],
   "source": [
    "sin(x).evalf(subs={x: mpf('9.9999999999999995e-8')})"
   ]
  },
  {
   "cell_type": "code",
   "execution_count": null,
   "metadata": {
    "collapsed": false
   },
   "outputs": [],
   "source": [
    "nsolve(D, (-1, 0), solver='bisect')"
   ]
  },
  {
   "cell_type": "code",
   "execution_count": null,
   "metadata": {
    "collapsed": false
   },
   "outputs": [],
   "source": [
    "D"
   ]
  },
  {
   "cell_type": "code",
   "execution_count": null,
   "metadata": {
    "collapsed": false
   },
   "outputs": [],
   "source": [
    "import mpmath\n",
    "try:\n",
    "    mpmath.mp.dps = 128\n",
    "    print(nsolve(D, (-1, 0), solver='bisect', maxsteps=300))\n",
    "finally:\n",
    "    mpmath.mp.dps = 15"
   ]
  },
  {
   "cell_type": "code",
   "execution_count": null,
   "metadata": {
    "collapsed": false
   },
   "outputs": [],
   "source": [
    "chebyshevt(2, x)"
   ]
  },
  {
   "cell_type": "code",
   "execution_count": null,
   "metadata": {
    "collapsed": false
   },
   "outputs": [],
   "source": [
    "0.9999999999999999"
   ]
  },
  {
   "cell_type": "code",
   "execution_count": null,
   "metadata": {
    "collapsed": false
   },
   "outputs": [],
   "source": [
    "0.99999999999999999"
   ]
  },
  {
   "cell_type": "code",
   "execution_count": null,
   "metadata": {
    "collapsed": false
   },
   "outputs": [],
   "source": [
    "exp(-(-t - 1)/(2*t - 2))"
   ]
  },
  {
   "cell_type": "code",
   "execution_count": null,
   "metadata": {
    "collapsed": false
   },
   "outputs": [],
   "source": [
    "solve((0.57224957904836676579778131095824616229041363386436155632065723326613208320645433529158968043480368460271370103317310738469165646*t**2 + 0.66930154271086975944415360267931286108869186534800442869820775970713699218292282609079303557228276229468949430966691265928683428*t + 1.0))"
   ]
  },
  {
   "cell_type": "code",
   "execution_count": null,
   "metadata": {
    "collapsed": false
   },
   "outputs": [],
   "source": [
    "[1, 2, 3][:-1]"
   ]
  },
  {
   "cell_type": "code",
   "execution_count": null,
   "metadata": {
    "collapsed": false
   },
   "outputs": [],
   "source": [
    "plot((t + 1)/(t - 1)*(-1/2), (t, -1, 1))"
   ]
  },
  {
   "cell_type": "code",
   "execution_count": null,
   "metadata": {
    "collapsed": false
   },
   "outputs": [],
   "source": [
    "solve(y - -(-t - 1)/(2*t - 2), t)"
   ]
  },
  {
   "cell_type": "code",
   "execution_count": null,
   "metadata": {
    "collapsed": false
   },
   "outputs": [],
   "source": [
    "exp(-(-t - 1)/(2*t - 2)).evalf(subs={t: 0})"
   ]
  },
  {
   "cell_type": "code",
   "execution_count": null,
   "metadata": {
    "collapsed": false
   },
   "outputs": [],
   "source": [
    "len('42109959068982')"
   ]
  },
  {
   "cell_type": "code",
   "execution_count": null,
   "metadata": {
    "collapsed": true
   },
   "outputs": [],
   "source": [
    "@conserve_mpmath_dps\n",
    "def test_increased_dps():\n",
    "    # Issue 8564\n",
    "    import mpmath\n",
    "    mpmath.mp.dps = 128\n",
    "    x = Symbol('x')\n",
    "    e1 = x**2 - pi\n",
    "    q = nsolve(e1, x, 3.0)\n",
    "\n",
    "    assert abs(sqrt(pi).evalf(128) - q) < 1e-128\n",
    "\n",
    "test_increased_dps()"
   ]
  },
  {
   "cell_type": "code",
   "execution_count": null,
   "metadata": {
    "collapsed": false
   },
   "outputs": [],
   "source": [
    "@conserve_mpmath_dps\n",
    "def test_mpf_subs():\n",
    "    import mpmath\n",
    "    mpmath.mp.dps = 128\n",
    "    a = mpf('1') + mpf('1e-100')\n",
    "    print(a)\n",
    "    print(x.subs(x, a))\n",
    "    print(Float(a))\n",
    "\n",
    "test_mpf_subs()"
   ]
  },
  {
   "cell_type": "code",
   "execution_count": null,
   "metadata": {
    "collapsed": false
   },
   "outputs": [],
   "source": [
    "@conserve_mpmath_dps\n",
    "def test_increased_dps2():\n",
    "    # Issue 8564\n",
    "    import mpmath\n",
    "    mpmath.mp.dps = 128\n",
    "    x = Symbol('x')\n",
    "    e1 = x**2 - pi\n",
    "    q = nsolve(e1, x, 3.0)\n",
    "    print((x**2).subs(x, q))\n",
    "    print(pi.evalf(128))\n",
    "\n",
    "test_increased_dps2()"
   ]
  },
  {
   "cell_type": "code",
   "execution_count": null,
   "metadata": {
    "collapsed": false
   },
   "outputs": [],
   "source": [
    "p0, p1, p2, q1, q2, epsilon = symbols(\"p0, p1, p2, q1, q2, epsilon\")\n",
    "r = (p0 + p1*t + p2*t**2)/(1 + q1*t + q2*t**2)\n",
    "mpf = lambda i: Float(i, 128)\n",
    "sol = {q1: mpf('-1.1598158896958144389688907541448290768017556418690225475316113676987123000368036156835800708110657203943382445749046292411027838124'), epsilon: mpf('-0.0073586701695804955713909885597251540212160797660122172060482127633180200310633941837926800633336626154349676612971775593725674790502'), p1: mpf('-1.3420582608178928401767377898250826050312440510776128093723998679786607122879166676244905769597498693757444204486264349423147412592'), q2: mpf('0.54706937851182403348832181267224373295821044378627516587652817178767445252898045643900602804552389487580236216086250141313671452195'), p2: mpf('0.73617861351264467252445532341623038921509966014009367227031009417645097851179620934054146565716699654528814524660644163951335402577'), p0: mpf('0.6087293180014645115203537929174427433501475052521283394857491045045741371996335477254671722188240766010031663167379415577767292914')}\n",
    "other_rat_func =\"(0.0042109959068981902319228224147959051043334784348885130731594832554304543920692286150512328715813585751529478908147308247510818304*t**2 - 0.1883335019892743246297189560004799477752569428797900790843481507588522143198473107264222704579544281038255097909548061885535647*t + 0.99264132983041950442860901144027484597878392023398778279395178723668197996893660581620731993666633738456503233870282244062743252)/(0.57224957904836377040707255710162720198078512465710225748045909842276672878045476079146532782980255617241659394936652703249328588*t**2 + 0.66930154271087159949217750010925437712785181665997133501826390508750116474339450131113420220623360917322211168993495402213680723*t + 1.0)\"\n",
    "\n",
    "n, d = together(r.subs(sol).subs(t, (2*t - 1)/(2*t + 1))).as_numer_denom() # simplify/cancel here will add degree to the numerator and denominator\n",
    "rat_func = (Poly(n)/Poly(d).TC())/(Poly(d)/Poly(d).TC())\n",
    "print(rat_func)\n",
    "print(other_rat_func)\n",
    "del mpf"
   ]
  },
  {
   "cell_type": "code",
   "execution_count": null,
   "metadata": {
    "collapsed": false
   },
   "outputs": [],
   "source": [
    "import sys\n",
    "print('test', file=sys.stderr)"
   ]
  },
  {
   "cell_type": "code",
   "execution_count": null,
   "metadata": {
    "collapsed": false
   },
   "outputs": [],
   "source": [
    "10**-10"
   ]
  },
  {
   "cell_type": "code",
   "execution_count": null,
   "metadata": {
    "collapsed": true
   },
   "outputs": [],
   "source": [
    "D = (-2*(t + 1)/(2*t - 2)**2 + 1/(2*t - 2))*exp((t + 1)/(2*t - 2)) - (-0.46319625019273218908*t**13 + 11.076239035694458023*t**12 - 75.38527286719552296*t**11 + 242.00660160608425014*t**10 - 389.01043643289017999*t**9 + 165.53549638768474282*t**8 + 538.42392697795239075*t**7 - 1160.0181368287938552*t**6 + 1064.6133061016735644*t**5 - 435.60064981285300771*t**4 - 47.836952574354747137*t**3 + 134.72356135348252232*t**2 - 56.370239030181725748*t + 8.3057523340557002803)*(0.054548679300092563818*t**14 - 1.3501921589697942721*t**13 + 9.0345240868201266233*t**12 - 27.90433797500592764*t**11 + 40.52259728739627843*t**10 - 2.2008514365998888364*t**9 - 97.728246570230795738*t**8 + 181.14960511639832727*t**7 - 159.50642335868838789*t**6 + 56.243320662736403761*t**5 + 26.808952900880779959*t**4 - 41.915371037748377236*t**3 + 21.829567246295711762*t**2 - 5.6442241022971821787*t + 0.6065306597126334236)/(0.033085446442338013506*t**14 - 0.85201838736111215565*t**13 + 6.28210607226629358*t**12 - 22.000600146007659103*t**11 + 38.901043643289017999*t**10 - 18.392832931964971424*t**9 - 67.302990872244048844*t**8 + 165.71687668982769361*t**7 - 177.43555101694559406*t**6 + 87.120129962570601541*t**5 + 11.959238143588686784*t**4 - 44.907853784494174105*t**3 + 28.185119515090862874*t**2 - 8.3057523340557002803*t + 1)**2 - (0.76368151020129589345*t**13 - 17.552498066607325537*t**12 + 108.41428904184151948*t**11 - 306.94771772506520404*t**10 + 405.2259728739627843*t**9 - 19.807662929398999527*t**8 - 781.82597256184636591*t**7 + 1268.0472358147882909*t**6 - 957.03854015213032735*t**5 + 281.2166033136820188*t**4 + 107.23581160352311984*t**3 - 125.74611311324513171*t**2 + 43.659134492591423524*t - 5.6442241022971821787)/(0.033085446442338013506*t**14 - 0.85201838736111215565*t**13 + 6.28210607226629358*t**12 - 22.000600146007659103*t**11 + 38.901043643289017999*t**10 - 18.392832931964971424*t**9 - 67.302990872244048844*t**8 + 165.71687668982769361*t**7 - 177.43555101694559406*t**6 + 87.120129962570601541*t**5 + 11.959238143588686784*t**4 - 44.907853784494174105*t**3 + 28.185119515090862874*t**2 - 8.3057523340557002803*t + 1)"
   ]
  },
  {
   "cell_type": "code",
   "execution_count": null,
   "metadata": {
    "collapsed": false
   },
   "outputs": [],
   "source": [
    "sols = nsolve_intervals(D, [-1, 0.999999], division=100)\n",
    "print(sols)\n",
    "print(len(sols))"
   ]
  },
  {
   "cell_type": "code",
   "execution_count": null,
   "metadata": {
    "collapsed": true
   },
   "outputs": [],
   "source": [
    "!say done"
   ]
  },
  {
   "cell_type": "code",
   "execution_count": null,
   "metadata": {
    "collapsed": false
   },
   "outputs": [],
   "source": [
    "[D.subs(t, s) for s in sols]"
   ]
  },
  {
   "cell_type": "code",
   "execution_count": null,
   "metadata": {
    "collapsed": true
   },
   "outputs": [],
   "source": [
    "E = S(\"exp((t + 1)/(2*t - 2)) - (0.041232283944696212177*t**14 + 1.3765734756274427394*t**13 - 11.423548266294669551*t**12 + 34.897781468305479785*t**11 - 48.170553853698286848*t**10 + 13.655351758955469199*t**9 + 46.6129883570929947*t**8 - 56.479130360958931409*t**7 + 5.525098125593180923*t**6 + 31.467377104584776578*t**5 - 18.246029053439227394*t**4 - 5.9943769501854388096*t**3 + 10.340721799222326113*t**2 - 4.2100165484624456618*t + 0.6065306597126334236)/(0.025008644382436209356*t**14 + 0.80992537393279613982*t**13 - 7.7761706067212429946*t**12 + 27.673671566138794968*t**11 - 47.057239733847679512*t**10 + 28.109557440827452275*t**9 + 30.919259146443448213*t**8 - 61.83483011093278413*t**7 + 22.957457767970616141*t**6 + 26.975517392632053618*t**5 - 26.389699317234955361*t**4 - 1.0791378811026364212*t**3 + 11.607824151320777869*t**2 - 5.9411438334495710432*t + 1)\")"
   ]
  },
  {
   "cell_type": "code",
   "execution_count": null,
   "metadata": {
    "collapsed": false
   },
   "outputs": [],
   "source": [
    "plot(E, (t, 0.7, 0.8), adaptive=False, nb_of_points=10000)"
   ]
  },
  {
   "cell_type": "code",
   "execution_count": null,
   "metadata": {
    "collapsed": false
   },
   "outputs": [],
   "source": [
    "chebyshevt(1, 1)"
   ]
  },
  {
   "cell_type": "code",
   "execution_count": null,
   "metadata": {
    "collapsed": false
   },
   "outputs": [],
   "source": [
    "[*enumerate(['a', 'b', 'c'])]"
   ]
  },
  {
   "cell_type": "code",
   "execution_count": null,
   "metadata": {
    "collapsed": false
   },
   "outputs": [],
   "source": [
    "system = S(\"Tuple(-p0 + 0.98846832432811139916*p1 - 0.050649168838712711749*p10 - 0.10116832198743217456*p11 + 0.25065253225872053539*p12 - 0.39435585511331859613*p13 + 0.5289640103269624416*p14 - 0.95413925640004885148*p2 + 0.89780453957074165714*p3 - 0.82076344120727632636*p4 + 0.72479278722911995887*p5 - 0.61210598254766284416*p6 + 0.48530196253108102515*p7 - 0.34730525284482028541*p8 + 0.20129852008866007873*p9 + (epsilon + 0.99710456213012649629)*(-0.98846832432811139916*q1 + 0.050649168838712711749*q10 + 0.10116832198743217456*q11 - 0.25065253225872053539*q12 + 0.39435585511331859613*q13 - 0.5289640103269624416*q14 + 0.95413925640004885148*q2 - 0.89780453957074165714*q3 + 0.82076344120727632636*q4 - 0.72479278722911995887*q5 + 0.61210598254766284416*q6 - 0.48530196253108102515*q7 + 0.34730525284482028541*q8 - 0.20129852008866007873*q9 + 1), -p0 + 0.96807711886620430515*p1 + 0.82076344120727632615*p10 - 0.93775213214708045842*p11 + 0.99486932339189514118*p12 - 0.98846832432811142281*p13 + 0.91895781162023063016*p14 - 0.87434661614458211883*p2 + 0.72479278722911995886*p3 - 0.52896401032696245737*p4 + 0.29936312297335795401*p5 - 0.050649168838712712237*p6 - 0.20129852008866007919*p7 + 0.44039415155763430936*p8 - 0.65137248272222220705*p9 + (-epsilon + 0.99192262841900652865)*(-0.96807711886620430515*q1 - 0.82076344120727632615*q10 + 0.93775213214708045842*q11 - 0.99486932339189514118*q12 + 0.98846832432811142281*q13 - 0.91895781162023063016*q14 + 0.87434661614458211883*q2 - 0.72479278722911995886*q3 + 0.52896401032696245737*q4 - 0.29936312297335795401*q5 + 0.050649168838712712237*q6 + 0.20129852008866007919*q7 - 0.44039415155763430936*q8 + 0.65137248272222220705*q9 + 1), -p0 + 0.93775213214708045843*p1 + 0.91895781162023062755*p10 - 0.72479278722911995726*p11 + 0.44039415155763430437*p12 - 0.10116832198743218276*p13 - 0.2506525322587205562*p14 - 0.75875812269279090192*p2 + 0.48530196253108102522*p3 - 0.15142777750457666366*p4 - 0.20129852008866007914*p5 + 0.52896401032696245735*p6 - 0.79077573693769858208*p7 + 0.95413925640004885141*p8 - 0.99871650717105280743*p9 + (epsilon + 0.98406642835075986461)*(-0.93775213214708045843*q1 - 0.91895781162023062755*q10 + 0.72479278722911995726*q11 - 0.44039415155763430437*q12 + 0.10116832198743218276*q13 + 0.2506525322587205562*q14 + 0.75875812269279090192*q2 - 0.48530196253108102522*q3 + 0.15142777750457666366*q4 + 0.20129852008866007914*q5 - 0.52896401032696245735*q6 + 0.79077573693769858208*q7 - 0.95413925640004885141*q8 + 0.99871650717105280743*q9 + 1), -p0 + 0.89780453957074165714*p1 + 0.15142777750457666382*p10 + 0.29936312297335795208*p11 - 0.68896691907568656868*p12 + 0.93775213214708046506*p13 - 0.99486932339189512731*p14 - 0.61210598254766284415*p2 + 0.20129852008866007914*p3 + 0.25065253225872053932*p4 - 0.65137248272222220746*p5 + 0.91895781162023062913*p6 - 0.99871650717105280713*p7 + 0.87434661614458211861*p8 - 0.57126821509479227908*p9 + (-epsilon + 0.97343458335469763991)*(-0.89780453957074165714*q1 - 0.15142777750457666382*q10 - 0.29936312297335795208*q11 + 0.68896691907568656868*q12 - 0.93775213214708046506*q13 + 0.99486932339189512731*q14 + 0.61210598254766284415*q2 - 0.20129852008866007914*q3 - 0.25065253225872053932*q4 + 0.65137248272222220746*q5 - 0.91895781162023062913*q6 + 0.99871650717105280713*q7 - 0.87434661614458211861*q8 + 0.57126821509479227908*q9 + 1), -p0 + 0.84864425749475095046*p1 - 0.7587581226927909016*p10 + 0.98846832432811139721*p11 - 0.91895781162023063016*p12 + 0.57126821509479228581*p13 - 0.050649168838712711749*p14 - 0.44039415155763430952*p2 - 0.10116832198743217778*p3 + 0.61210598254766284414*p4 - 0.93775213214708045842*p5 + 0.97952994125249449394*p6 - 0.72479278722911995886*p7 + 0.25065253225872053918*p8 + 0.29936312297335795414*p9 + (epsilon + 0.9598896419605118508)*(-0.84864425749475095046*q1 + 0.7587581226927909016*q10 - 0.98846832432811139721*q11 + 0.91895781162023063016*q12 - 0.57126821509479228581*q13 + 0.050649168838712711749*q14 + 0.44039415155763430952*q2 + 0.10116832198743217778*q3 - 0.61210598254766284414*q4 + 0.93775213214708045842*q5 - 0.97952994125249449394*q6 + 0.72479278722911995886*q7 - 0.25065253225872053918*q8 - 0.29936312297335795414*q9 + 1), -p0 + 0.79077573693769858208*p1 - 0.95413925640004885152*p10 + 0.57126821509479227959*p11 + 0.050649168838712713483*p12 - 0.65137248272222220499*p13 + 0.97952994125249449528*p14 - 0.25065253225872053932*p2 - 0.3943558551133185801*p3 + 0.87434661614458211883*p4 - 0.98846832432811139917*p5 + 0.6889669190756865678*p6 - 0.10116832198743217778*p7 - 0.52896401032696245732*p8 + 0.93775213214708045842*p9 + (-epsilon + 0.94325632448977341962)*(-0.79077573693769858208*q1 + 0.95413925640004885152*q10 - 0.57126821509479227959*q11 - 0.050649168838712713483*q12 + 0.65137248272222220499*q13 - 0.97952994125249449528*q14 + 0.25065253225872053932*q2 + 0.3943558551133185801*q3 - 0.87434661614458211883*q4 + 0.98846832432811139917*q5 - 0.6889669190756865678*q6 + 0.10116832198743217778*q7 + 0.52896401032696245732*q8 - 0.93775213214708045842*q9 + 1), -p0 + 0.72479278722911995887*p1 - 0.25065253225872053951*p10 - 0.48530196253108102528*p11 + 0.95413925640004885152*p12 - 0.8978045395707416562*p13 + 0.34730525284482029018*p14 - 0.050649168838712712279*p2 - 0.65137248272222220745*p3 + 0.99486932339189514632*p4 - 0.79077573693769858208*p5 + 0.15142777750457666365*p6 + 0.57126821509479227918*p7 - 0.97952994125249449387*p8 + 0.84864425749475095033*p9 + (epsilon + 0.92331964820666129003)*(-0.72479278722911995887*q1 + 0.25065253225872053951*q10 + 0.48530196253108102528*q11 - 0.95413925640004885152*q12 + 0.8978045395707416562*q13 - 0.34730525284482029018*q14 + 0.050649168838712712279*q2 + 0.65137248272222220745*q3 - 0.99486932339189514632*q4 + 0.79077573693769858208*q5 - 0.15142777750457666365*q6 - 0.57126821509479227918*q7 + 0.97952994125249449387*q8 - 0.84864425749475095033*q9 + 1), -p0 + 0.65137248272222220745*p1 + 0.68896691907568656781*p10 - 0.9987165071710528071*p11 + 0.61210598254766284418*p12 + 0.20129852008866007835*p13 - 0.87434661614458211807*p14 + 0.15142777750457666366*p2 - 0.84864425749475095047*p3 + 0.95413925640004885148*p4 - 0.3943558551133185801*p5 - 0.44039415155763430951*p6 + 0.96807711886620430516*p7 - 0.82076344120727632634*p8 + 0.1011683219874321778*p9 + (-epsilon + 0.89982327219932776296)*(-0.65137248272222220745*q1 - 0.68896691907568656781*q10 + 0.9987165071710528071*q11 - 0.61210598254766284418*q12 - 0.20129852008866007835*q13 + 0.87434661614458211807*q14 - 0.15142777750457666366*q2 + 0.84864425749475095047*q3 - 0.95413925640004885148*q4 + 0.3943558551133185801*q5 + 0.44039415155763430951*q6 - 0.96807711886620430516*q7 + 0.82076344120727632634*q8 - 0.1011683219874321778*q9 + 1), -p0 + 0.57126821509479227916*p1 + 0.97952994125249449398*p10 - 0.39435585511331858023*p11 - 0.52896401032696245754*p12 + 0.99871650717105280716*p13 - 0.61210598254766284397*p14 + 0.34730525284482028554*p2 - 0.96807711886620430515*p3 + 0.75875812269279090191*p4 + 0.10116832198743217779*p5 - 0.87434661614458211882*p6 + 0.89780453957074165714*p7 - 0.15142777750457666369*p8 - 0.72479278722911995884*p9 + (epsilon + 0.8724686291509901109)*(-0.57126821509479227916*q1 - 0.97952994125249449398*q10 + 0.39435585511331858023*q11 + 0.52896401032696245754*q12 - 0.99871650717105280716*q13 + 0.61210598254766284397*q14 - 0.34730525284482028554*q2 + 0.96807711886620430515*q3 - 0.75875812269279090191*q4 - 0.10116832198743217779*q5 + 0.87434661614458211882*q6 - 0.89780453957074165714*q7 + 0.15142777750457666369*q8 + 0.72479278722911995884*q9 + 1), -p0 + 0.48530196253108102521*p1 + 0.34730525284482028554*p10 + 0.65137248272222220744*p11 - 0.97952994125249449395*p12 + 0.29936312297335795411*p13 + 0.68896691907568656803*p14 + 0.52896401032696245737*p2 - 0.99871650717105280715*p3 + 0.44039415155763430952*p4 + 0.57126821509479227916*p5 - 0.99486932339189514632*p6 + 0.3943558551133185801*p7 + 0.61210598254766284416*p8 - 0.98846832432811139917*p9 + (-epsilon + 0.84091577660137237175)*(-0.48530196253108102521*q1 - 0.34730525284482028554*q10 - 0.65137248272222220744*q11 + 0.97952994125249449395*q12 - 0.29936312297335795411*q13 - 0.68896691907568656803*q14 - 0.52896401032696245737*q2 + 0.99871650717105280715*q3 - 0.44039415155763430952*q4 - 0.57126821509479227916*q5 + 0.99486932339189514632*q6 - 0.3943558551133185801*q7 - 0.61210598254766284416*q8 + 0.98846832432811139917*q9 + 1), -p0 + 0.3943558551133185801*p1 - 0.61210598254766284414*p10 + 0.96807711886620430514*p11 - 0.15142777750457666367*p12 - 0.84864425749475095045*p13 + 0.82076344120727632639*p14 + 0.6889669190756865678*p2 - 0.93775213214708045843*p3 + 0.050649168838712712278*p4 + 0.89780453957074165714*p5 - 0.75875812269279090191*p6 - 0.29936312297335795401*p7 + 0.99486932339189514632*p8 - 0.48530196253108102521*p9 + (epsilon + 0.80478747993180621938)*(-0.3943558551133185801*q1 + 0.61210598254766284414*q10 - 0.96807711886620430514*q11 + 0.15142777750457666367*q12 + 0.84864425749475095045*q13 - 0.82076344120727632639*q14 - 0.6889669190756865678*q2 + 0.93775213214708045843*q3 - 0.050649168838712712278*q4 - 0.89780453957074165714*q5 + 0.75875812269279090191*q6 + 0.29936312297335795401*q7 - 0.99486932339189514632*q8 + 0.48530196253108102521*q9 + 1), -p0 + 0.29936312297335795401*p1 - 0.99486932339189514632*p10 + 0.20129852008866007913*p11 + 0.87434661614458211883*p12 - 0.72479278722911995887*p13 - 0.44039415155763430949*p14 + 0.82076344120727632636*p2 - 0.79077573693769858208*p3 - 0.34730525284482028554*p4 + 0.99871650717105280715*p5 - 0.25065253225872053931*p6 - 0.84864425749475095047*p7 + 0.75875812269279090191*p8 + 0.39435585511331858011*p9 + (-epsilon + 0.76367894724544165258)*(-0.29936312297335795401*q1 + 0.99486932339189514632*q10 - 0.20129852008866007913*q11 - 0.87434661614458211883*q12 + 0.72479278722911995887*q13 + 0.44039415155763430949*q14 - 0.82076344120727632636*q2 + 0.79077573693769858208*q3 + 0.34730525284482028554*q4 - 0.99871650717105280715*q5 + 0.25065253225872053931*q6 + 0.84864425749475095047*q7 - 0.75875812269279090191*q8 - 0.39435585511331858011*q9 + 1), -p0 + 0.20129852008866007914*p1 - 0.44039415155763430952*p10 - 0.79077573693769858208*p11 + 0.75875812269279090191*p12 + 0.48530196253108102521*p13 - 0.95413925640004885148*p14 + 0.91895781162023062913*p2 - 0.57126821509479227916*p3 - 0.6889669190756865678*p4 + 0.84864425749475095046*p5 + 0.34730525284482028554*p6 - 0.98846832432811139916*p7 + 0.050649168838712712279*p8 + 0.96807711886620430515*p9 + (epsilon + 0.71717703508602379371)*(-0.20129852008866007914*q1 + 0.44039415155763430952*q10 + 0.79077573693769858208*q11 - 0.75875812269279090191*q12 - 0.48530196253108102521*q13 + 0.95413925640004885148*q14 - 0.91895781162023062913*q2 + 0.57126821509479227916*q3 + 0.6889669190756865678*q4 - 0.84864425749475095046*q5 - 0.34730525284482028554*q6 + 0.98846832432811139916*q7 - 0.050649168838712712279*q8 - 0.96807711886620430515*q9 + 1), -p0 + 0.10116832198743217779*p1 + 0.52896401032696245737*p10 - 0.89780453957074165714*p11 - 0.34730525284482028554*p12 + 0.96807711886620430515*p13 + 0.15142777750457666366*p14 + 0.97952994125249449394*p2 - 0.29936312297335795401*p3 - 0.91895781162023062913*p4 + 0.48530196253108102521*p5 + 0.82076344120727632636*p6 - 0.65137248272222220745*p7 - 0.6889669190756865678*p8 + 0.79077573693769858208*p9 + (-epsilon + 0.66489484531991716168)*(-0.10116832198743217779*q1 - 0.52896401032696245737*q10 + 0.89780453957074165714*q11 + 0.34730525284482028554*q12 - 0.96807711886620430515*q13 - 0.15142777750457666366*q14 - 0.97952994125249449394*q2 + 0.29936312297335795401*q3 + 0.91895781162023062913*q4 - 0.48530196253108102521*q5 - 0.82076344120727632636*q6 + 0.65137248272222220745*q7 + 0.6889669190756865678*q8 - 0.79077573693769858208*q9 + 1), -p0 + p10 - p12 + p14 + p2 - p4 + p6 - p8 + (epsilon + exp(-1/2))*(-q10 + q12 - q14 - q2 + q4 - q6 + q8 + 1), -p0 - 0.10116832198743217779*p1 + 0.52896401032696245737*p10 + 0.89780453957074165714*p11 - 0.34730525284482028554*p12 - 0.96807711886620430515*p13 + 0.15142777750457666366*p14 + 0.97952994125249449394*p2 + 0.29936312297335795401*p3 - 0.91895781162023062913*p4 - 0.48530196253108102521*p5 + 0.82076344120727632636*p6 + 0.65137248272222220745*p7 - 0.6889669190756865678*p8 - 0.79077573693769858208*p9 + (-epsilon + 0.54196418516113069989)*(0.10116832198743217779*q1 - 0.52896401032696245737*q10 - 0.89780453957074165714*q11 + 0.34730525284482028554*q12 + 0.96807711886620430515*q13 - 0.15142777750457666366*q14 - 0.97952994125249449394*q2 - 0.29936312297335795401*q3 + 0.91895781162023062913*q4 + 0.48530196253108102521*q5 - 0.82076344120727632636*q6 - 0.65137248272222220745*q7 + 0.6889669190756865678*q8 + 0.79077573693769858208*q9 + 1), -p0 - 0.20129852008866007914*p1 - 0.44039415155763430952*p10 + 0.79077573693769858208*p11 + 0.75875812269279090191*p12 - 0.48530196253108102521*p13 - 0.95413925640004885148*p14 + 0.91895781162023062913*p2 + 0.57126821509479227916*p3 - 0.6889669190756865678*p4 - 0.84864425749475095046*p5 + 0.34730525284482028554*p6 + 0.98846832432811139916*p7 + 0.050649168838712712279*p8 - 0.96807711886620430515*p9 + (epsilon + 0.47140756707585578791)*(0.20129852008866007914*q1 + 0.44039415155763430952*q10 - 0.79077573693769858208*q11 - 0.75875812269279090191*q12 + 0.48530196253108102521*q13 + 0.95413925640004885148*q14 - 0.91895781162023062913*q2 - 0.57126821509479227916*q3 + 0.6889669190756865678*q4 + 0.84864425749475095046*q5 - 0.34730525284482028554*q6 - 0.98846832432811139916*q7 - 0.050649168838712712279*q8 + 0.96807711886620430515*q9 + 1), -p0 - 0.29936312297335795401*p1 - 0.99486932339189514632*p10 - 0.20129852008866007913*p11 + 0.87434661614458211883*p12 + 0.72479278722911995887*p13 - 0.44039415155763430949*p14 + 0.82076344120727632636*p2 + 0.79077573693769858208*p3 - 0.34730525284482028554*p4 - 0.99871650717105280715*p5 - 0.25065253225872053931*p6 + 0.84864425749475095047*p7 + 0.75875812269279090191*p8 - 0.39435585511331858011*p9 + (-epsilon + 0.39563118171972868313)*(0.29936312297335795401*q1 + 0.99486932339189514632*q10 + 0.20129852008866007913*q11 - 0.87434661614458211883*q12 - 0.72479278722911995887*q13 + 0.44039415155763430949*q14 - 0.82076344120727632636*q2 - 0.79077573693769858208*q3 + 0.34730525284482028554*q4 + 0.99871650717105280715*q5 + 0.25065253225872053931*q6 - 0.84864425749475095047*q7 - 0.75875812269279090191*q8 + 0.39435585511331858011*q9 + 1), -p0 - 0.3943558551133185801*p1 - 0.61210598254766284414*p10 - 0.96807711886620430514*p11 - 0.15142777750457666367*p12 + 0.84864425749475095045*p13 + 0.82076344120727632639*p14 + 0.6889669190756865678*p2 + 0.93775213214708045843*p3 + 0.050649168838712712278*p4 - 0.89780453957074165714*p5 - 0.75875812269279090191*p6 + 0.29936312297335795401*p7 + 0.99486932339189514632*p8 + 0.48530196253108102521*p9 + (epsilon + 0.3162777185489854716)*(0.3943558551133185801*q1 + 0.61210598254766284414*q10 + 0.96807711886620430514*q11 + 0.15142777750457666367*q12 - 0.84864425749475095045*q13 - 0.82076344120727632639*q14 - 0.6889669190756865678*q2 - 0.93775213214708045843*q3 - 0.050649168838712712278*q4 + 0.89780453957074165714*q5 + 0.75875812269279090191*q6 - 0.29936312297335795401*q7 - 0.99486932339189514632*q8 - 0.48530196253108102521*q9 + 1), -p0 - 0.48530196253108102521*p1 + 0.34730525284482028554*p10 - 0.65137248272222220744*p11 - 0.97952994125249449395*p12 - 0.29936312297335795411*p13 + 0.68896691907568656803*p14 + 0.52896401032696245737*p2 + 0.99871650717105280715*p3 + 0.44039415155763430952*p4 - 0.57126821509479227916*p5 - 0.99486932339189514632*p6 - 0.3943558551133185801*p7 + 0.61210598254766284416*p8 + 0.98846832432811139917*p9 + (-epsilon + 0.23624479246104157387)*(0.48530196253108102521*q1 - 0.34730525284482028554*q10 + 0.65137248272222220744*q11 + 0.97952994125249449395*q12 + 0.29936312297335795411*q13 - 0.68896691907568656803*q14 - 0.52896401032696245737*q2 - 0.99871650717105280715*q3 - 0.44039415155763430952*q4 + 0.57126821509479227916*q5 + 0.99486932339189514632*q6 + 0.3943558551133185801*q7 - 0.61210598254766284416*q8 - 0.98846832432811139917*q9 + 1), -p0 - 0.57126821509479227916*p1 + 0.97952994125249449398*p10 + 0.39435585511331858023*p11 - 0.52896401032696245754*p12 - 0.99871650717105280716*p13 - 0.61210598254766284397*p14 + 0.34730525284482028554*p2 + 0.96807711886620430515*p3 + 0.75875812269279090191*p4 - 0.10116832198743217779*p5 - 0.87434661614458211882*p6 - 0.89780453957074165714*p7 - 0.15142777750457666369*p8 + 0.72479278722911995884*p9 + (epsilon + 0.1600193379721607684)*(0.57126821509479227916*q1 - 0.97952994125249449398*q10 - 0.39435585511331858023*q11 + 0.52896401032696245754*q12 + 0.99871650717105280716*q13 + 0.61210598254766284397*q14 - 0.34730525284482028554*q2 - 0.96807711886620430515*q3 - 0.75875812269279090191*q4 + 0.10116832198743217779*q5 + 0.87434661614458211882*q6 + 0.89780453957074165714*q7 + 0.15142777750457666369*q8 - 0.72479278722911995884*q9 + 1), -p0 - 0.65137248272222220745*p1 + 0.68896691907568656781*p10 + 0.9987165071710528071*p11 + 0.61210598254766284418*p12 - 0.20129852008866007835*p13 - 0.87434661614458211807*p14 + 0.15142777750457666366*p2 + 0.84864425749475095047*p3 + 0.95413925640004885148*p4 + 0.3943558551133185801*p5 - 0.44039415155763430951*p6 - 0.96807711886620430516*p7 - 0.82076344120727632634*p8 - 0.1011683219874321778*p9 + (-epsilon + 0.093631266675993090694)*(0.65137248272222220745*q1 - 0.68896691907568656781*q10 - 0.9987165071710528071*q11 - 0.61210598254766284418*q12 + 0.20129852008866007835*q13 + 0.87434661614458211807*q14 - 0.15142777750457666366*q2 - 0.84864425749475095047*q3 - 0.95413925640004885148*q4 - 0.3943558551133185801*q5 + 0.44039415155763430951*q6 + 0.96807711886620430516*q7 + 0.82076344120727632634*q8 + 0.1011683219874321778*q9 + 1), -p0 - 0.72479278722911995887*p1 - 0.25065253225872053951*p10 + 0.48530196253108102528*p11 + 0.95413925640004885152*p12 + 0.8978045395707416562*p13 + 0.34730525284482029018*p14 - 0.050649168838712712279*p2 + 0.65137248272222220745*p3 + 0.99486932339189514632*p4 + 0.79077573693769858208*p5 + 0.15142777750457666365*p6 - 0.57126821509479227918*p7 - 0.97952994125249449387*p8 - 0.84864425749475095033*p9 + (epsilon + 0.0435595768207820696)*(0.72479278722911995887*q1 + 0.25065253225872053951*q10 - 0.48530196253108102528*q11 - 0.95413925640004885152*q12 - 0.8978045395707416562*q13 - 0.34730525284482029018*q14 + 0.050649168838712712279*q2 - 0.65137248272222220745*q3 - 0.99486932339189514632*q4 - 0.79077573693769858208*q5 - 0.15142777750457666365*q6 + 0.57126821509479227918*q7 + 0.97952994125249449387*q8 + 0.84864425749475095033*q9 + 1), -p0 - 0.79077573693769858208*p1 - 0.95413925640004885152*p10 - 0.57126821509479227959*p11 + 0.050649168838712713483*p12 + 0.65137248272222220499*p13 + 0.97952994125249449528*p14 - 0.25065253225872053932*p2 + 0.3943558551133185801*p3 + 0.87434661614458211883*p4 + 0.98846832432811139917*p5 + 0.6889669190756865678*p6 + 0.10116832198743217778*p7 - 0.52896401032696245732*p8 - 0.93775213214708045842*p9 + (-epsilon + 0.013848748820747408312)*(0.79077573693769858208*q1 + 0.95413925640004885152*q10 + 0.57126821509479227959*q11 - 0.050649168838712713483*q12 - 0.65137248272222220499*q13 - 0.97952994125249449528*q14 + 0.25065253225872053932*q2 - 0.3943558551133185801*q3 - 0.87434661614458211883*q4 - 0.98846832432811139917*q5 - 0.6889669190756865678*q6 - 0.10116832198743217778*q7 + 0.52896401032696245732*q8 + 0.93775213214708045842*q9 + 1), -p0 - 0.84864425749475095046*p1 - 0.7587581226927909016*p10 - 0.98846832432811139721*p11 - 0.91895781162023063016*p12 - 0.57126821509479228581*p13 - 0.050649168838712711749*p14 - 0.44039415155763430952*p2 + 0.10116832198743217778*p3 + 0.61210598254766284414*p4 + 0.93775213214708045842*p5 + 0.97952994125249449394*p6 + 0.72479278722911995886*p7 + 0.25065253225872053918*p8 - 0.29936312297335795414*p9 + (epsilon + 0.0022273312261039493487)*(0.84864425749475095046*q1 + 0.7587581226927909016*q10 + 0.98846832432811139721*q11 + 0.91895781162023063016*q12 + 0.57126821509479228581*q13 + 0.050649168838712711749*q14 + 0.44039415155763430952*q2 - 0.10116832198743217778*q3 - 0.61210598254766284414*q4 - 0.93775213214708045842*q5 - 0.97952994125249449394*q6 - 0.72479278722911995886*q7 - 0.25065253225872053918*q8 + 0.29936312297335795414*q9 + 1), -p0 - 0.89780453957074165714*p1 + 0.15142777750457666382*p10 - 0.29936312297335795208*p11 - 0.68896691907568656868*p12 - 0.93775213214708046506*p13 - 0.99486932339189512731*p14 - 0.61210598254766284415*p2 - 0.20129852008866007914*p3 + 0.25065253225872053932*p4 + 0.65137248272222220746*p5 + 0.91895781162023062913*p6 + 0.99871650717105280713*p7 + 0.87434661614458211861*p8 + 0.57126821509479227908*p9 + (-epsilon + 0.000092790113933967817733)*(0.89780453957074165714*q1 - 0.15142777750457666382*q10 + 0.29936312297335795208*q11 + 0.68896691907568656868*q12 + 0.93775213214708046506*q13 + 0.99486932339189512731*q14 + 0.61210598254766284415*q2 + 0.20129852008866007914*q3 - 0.25065253225872053932*q4 - 0.65137248272222220746*q5 - 0.91895781162023062913*q6 - 0.99871650717105280713*q7 - 0.87434661614458211861*q8 - 0.57126821509479227908*q9 + 1), -p0 - 0.93775213214708045843*p1 + 0.91895781162023062755*p10 + 0.72479278722911995726*p11 + 0.44039415155763430437*p12 + 0.10116832198743218276*p13 - 0.2506525322587205562*p14 - 0.75875812269279090192*p2 - 0.48530196253108102522*p3 - 0.15142777750457666366*p4 + 0.20129852008866007914*p5 + 0.52896401032696245735*p6 + 0.79077573693769858208*p7 + 0.95413925640004885141*p8 + 0.99871650717105280743*p9 + (epsilon + 1.7389619963042768938e-7)*(0.93775213214708045843*q1 - 0.91895781162023062755*q10 - 0.72479278722911995726*q11 - 0.44039415155763430437*q12 - 0.10116832198743218276*q13 + 0.2506525322587205562*q14 + 0.75875812269279090192*q2 + 0.48530196253108102522*q3 + 0.15142777750457666366*q4 - 0.20129852008866007914*q5 - 0.52896401032696245735*q6 - 0.79077573693769858208*q7 - 0.95413925640004885141*q8 - 0.99871650717105280743*q9 + 1), -p0 - 0.96807711886620430515*p1 + 0.82076344120727632615*p10 + 0.93775213214708045842*p11 + 0.99486932339189514118*p12 + 0.98846832432811142281*p13 + 0.91895781162023063016*p14 - 0.87434661614458211883*p2 - 0.72479278722911995886*p3 - 0.52896401032696245737*p4 - 0.29936312297335795401*p5 - 0.050649168838712712237*p6 + 0.20129852008866007919*p7 + 0.44039415155763430936*p8 + 0.65137248272222220705*p9 + (-epsilon + 4.0988152678429733251e-14)*(0.96807711886620430515*q1 - 0.82076344120727632615*q10 - 0.93775213214708045842*q11 - 0.99486932339189514118*q12 - 0.98846832432811142281*q13 - 0.91895781162023063016*q14 + 0.87434661614458211883*q2 + 0.72479278722911995886*q3 + 0.52896401032696245737*q4 + 0.29936312297335795401*q5 + 0.050649168838712712237*q6 - 0.20129852008866007919*q7 - 0.44039415155763430936*q8 - 0.65137248272222220705*q9 + 1), -p0 - 0.98846832432811139916*p1 - 0.050649168838712711749*p10 + 0.10116832198743217456*p11 + 0.25065253225872053539*p12 + 0.39435585511331859613*p13 + 0.5289640103269624416*p14 - 0.95413925640004885148*p2 - 0.89780453957074165714*p3 - 0.82076344120727632636*p4 - 0.72479278722911995887*p5 - 0.61210598254766284416*p6 - 0.48530196253108102515*p7 - 0.34730525284482028541*p8 - 0.20129852008866007873*p9 + (epsilon + 3.5986813119484602573e-38)*(0.98846832432811139916*q1 + 0.050649168838712711749*q10 - 0.10116832198743217456*q11 - 0.25065253225872053539*q12 - 0.39435585511331859613*q13 - 0.5289640103269624416*q14 + 0.95413925640004885148*q2 + 0.89780453957074165714*q3 + 0.82076344120727632636*q4 + 0.72479278722911995887*q5 + 0.61210598254766284416*q6 + 0.48530196253108102515*q7 + 0.34730525284482028541*q8 + 0.20129852008866007873*q9 + 1), -epsilon*(q1 + q10 + q11 + q12 + q13 + q14 + q2 + q3 + q4 + q5 + q6 + q7 + q8 + q9 + 1) - p0 - p1 - p10 - p11 - p12 - p13 - p14 - p2 - p3 - p4 - p5 - p6 - p7 - p8 - p9)\")\n",
    "vars = S(\"[p0, p1, p2, p3, p4, p5, p6, p7, p8, p9, p10, p11, p12, p13, p14, q1, q2, q3, q4, q5, q6, q7, q8, q9, q10, q11, q12, q13, q14, epsilon]\")"
   ]
  },
  {
   "cell_type": "code",
   "execution_count": null,
   "metadata": {
    "collapsed": false
   },
   "outputs": [],
   "source": [
    "sol = dict(zip(vars, nsolve(system, vars, [1]*len(vars), solver='secant')))\n",
    "sol"
   ]
  },
  {
   "cell_type": "code",
   "execution_count": null,
   "metadata": {
    "collapsed": false
   },
   "outputs": [],
   "source": [
    "print(system.subs(sol))"
   ]
  },
  {
   "cell_type": "code",
   "execution_count": null,
   "metadata": {
    "collapsed": false
   },
   "outputs": [],
   "source": [
    "plot(exp((t + 1)/(t - 1)), (t, -1, 1))"
   ]
  },
  {
   "cell_type": "code",
   "execution_count": null,
   "metadata": {
    "collapsed": false
   },
   "outputs": [],
   "source": [
    "plot(exp(10*(t + 1)/(t - 1)), (t, -1, 1))"
   ]
  },
  {
   "cell_type": "code",
   "execution_count": null,
   "metadata": {
    "collapsed": false
   },
   "outputs": [],
   "source": [
    "r = S(\"(0.0011875196369021855177*t**14 - 0.011420090831167348621*t**13 + 0.050741761684873561064*t**12 - 0.13809510690997622664*t**11 + 0.25723786667078296754*t**10 - 0.34703482945300861262*t**9 + 0.34976856562058063458*t**8 - 0.26762758451401203127*t**7 + 0.15627145956034238656*t**6 - 0.069319897634892213306*t**5 + 0.023002511830763159929*t**4 - 0.0055388208662975187897*t**3 + 0.00091518140765965519386*t**2 - 0.00009291001238164753822*t + 4.3738099008807505585e-6)/(0.00089586291474760584255*t**14 + 0.0089336931214819976007*t**13 + 0.042095909802441250189*t**12 + 0.12482069131842848916*t**11 + 0.26604814866002116766*t**10 + 0.42347046743527135243*t**9 + 0.57833691404471361527*t**8 + 0.54769996073689544827*t**7 + 0.68765070665076017993*t**6 + 0.2278059784921081907*t**5 + 0.6501516075867275978*t**4 - 0.14644874880736715755*t**3 + 0.42333407306668857903*t**2 - 0.11968772580151045925*t + 0.096339574212779644172)\").subs(t, solve(10*(t + 1)/(t - 1) - y, t)[0].subs(y, t))\n",
    "n, d = together(r).as_numer_denom() # simplify/cancel here will add degree to the numerator and denominator\n",
    "rat_func = (Poly(n)/Poly(d).TC())/(Poly(d)/Poly(d).TC())\n",
    "rat_func"
   ]
  },
  {
   "cell_type": "code",
   "execution_count": null,
   "metadata": {
    "collapsed": true
   },
   "outputs": [],
   "source": [
    "D = S(\"(10/(t - 1) - (10*t + 10)/(t - 1)**2)*exp((10*t + 10)/(t - 1)) - (-0.011109949473020816773*t**13 - 0.10498117392496721903*t**12 - 0.4662693207692269047*t**11 - 1.2944463271987387573*t**10 - 2.560791476062548363*t**9 - 3.7445986907826045347*t**8 - 4.6175581668981299287*t**7 - 3.9202376055011740667*t**6 - 4.1853692405031723697*t**5 - 1.2730163279308121306*t**4 - 2.6093036740226881464*t**3 + 0.37572825889837415047*t**2 - 0.84260381473372911342*t + 0.11395040244406088625)*(0.0011012754893812472661*t**14 - 0.010681747521049671358*t**13 + 0.047852308718456039572*t**12 - 0.13125412233037760452*t**11 + 0.24631294936212648611*t**10 - 0.33462134384239723802*t**9 + 0.3394635962011490975*t**8 - 0.2613214567551016616*t**7 + 0.15344584617039959246*t**6 - 0.068417469219647235265*t**5 + 0.022810045726230519721*t**4 - 0.0055160290938826628221*t**3 + 0.00091495897212439435512*t**2 - 0.00009321390565315082022*t + 4.402028268659469097e-6)/(0.00079356781950148691235*t**14 + 0.0080754749173051706947*t**13 + 0.038855776730768908725*t**12 + 0.11767693883624897794*t**11 + 0.2560791476062548363*t**10 + 0.41606652119806717052*t**9 + 0.57719477086226624108*t**8 + 0.56003394364302486668*t**7 + 0.69756154008386206162*t**6 + 0.25460326558616242613*t**5 + 0.65232591850567203661*t**4 - 0.12524275296612471682*t**3 + 0.42130190736686455671*t**2 - 0.11395040244406088625*t + 0.096961125131689425859)**2 - (0.015417856851337461725*t**13 - 0.13886271777364572765*t**12 + 0.57422770462147247487*t**11 - 1.4437953456341536497*t**10 + 2.4631294936212648611*t**9 - 3.0115920945815751422*t**8 + 2.71570876960919278*t**7 - 1.8292501972857116312*t**6 + 0.92067507702239755476*t**5 - 0.34208734609823617633*t**4 + 0.091240182904922078882*t**3 - 0.016548087281647988466*t**2 + 0.0018299179442487887102*t - 0.00009321390565315082022)/(0.00079356781950148691235*t**14 + 0.0080754749173051706947*t**13 + 0.038855776730768908725*t**12 + 0.11767693883624897794*t**11 + 0.2560791476062548363*t**10 + 0.41606652119806717052*t**9 + 0.57719477086226624108*t**8 + 0.56003394364302486668*t**7 + 0.69756154008386206162*t**6 + 0.25460326558616242613*t**5 + 0.65232591850567203661*t**4 - 0.12524275296612471682*t**3 + 0.42130190736686455671*t**2 - 0.11395040244406088625*t + 0.096961125131689425859)\")"
   ]
  },
  {
   "cell_type": "code",
   "execution_count": null,
   "metadata": {
    "collapsed": false
   },
   "outputs": [],
   "source": [
    "D.subs(t, Float(\"-5.0000000006988898296e-7\"))"
   ]
  },
  {
   "cell_type": "code",
   "execution_count": null,
   "metadata": {
    "collapsed": false
   },
   "outputs": [],
   "source": [
    "interval = [-5.00000000069889e-07, 0.019999489999999787]\n",
    "sol = nsolve(D, interval, solver='bisect', prec=20)\n",
    "sol"
   ]
  },
  {
   "cell_type": "code",
   "execution_count": null,
   "metadata": {
    "collapsed": false
   },
   "outputs": [],
   "source": [
    "D.subs(t, sol)"
   ]
  },
  {
   "cell_type": "code",
   "execution_count": null,
   "metadata": {
    "collapsed": false
   },
   "outputs": [],
   "source": [
    "interval[0] < sol < interval[1]"
   ]
  },
  {
   "cell_type": "code",
   "execution_count": null,
   "metadata": {
    "collapsed": false
   },
   "outputs": [],
   "source": [
    "interval[0]"
   ]
  },
  {
   "cell_type": "code",
   "execution_count": null,
   "metadata": {
    "collapsed": false
   },
   "outputs": [],
   "source": [
    "import mpmath\n",
    "mpmath.mp.dps = 20\n",
    "f = lambdify(t, D, 'mpmath')\n",
    "sol = mpmath.findroot(f, [0.57999921, 0.5999991999999998] , solver='bisect')\n",
    "sol"
   ]
  },
  {
   "cell_type": "code",
   "execution_count": null,
   "metadata": {
    "collapsed": false
   },
   "outputs": [],
   "source": [
    "f(sol)"
   ]
  },
  {
   "cell_type": "code",
   "execution_count": null,
   "metadata": {
    "collapsed": false
   },
   "outputs": [],
   "source": [
    "plot(-exp(-t) + S(\"(0.00421099590689821779984639140604*t**2 + 0.188333501989274148910007547496*t + 0.992641329830419396033230547887)/(0.572249579048364881552280260776*t**2 - 0.669301542710871251180032333275*t + 1.0)\"), (t, 0, 100))"
   ]
  },
  {
   "cell_type": "code",
   "execution_count": null,
   "metadata": {
    "collapsed": false
   },
   "outputs": [],
   "source": [
    "rat_func"
   ]
  },
  {
   "cell_type": "code",
   "execution_count": null,
   "metadata": {
    "collapsed": false
   },
   "outputs": [],
   "source": [
    "plot(rat_func - exp(-t), (t, 0, 100))"
   ]
  },
  {
   "cell_type": "code",
   "execution_count": null,
   "metadata": {
    "collapsed": false
   },
   "outputs": [],
   "source": [
    "plot(rat_func - S(\"(0.00421099590689821779984639140604*t**2 + 0.188333501989274148910007547496*t + 0.992641329830419396033230547887)/(0.572249579048364881552280260776*t**2 - 0.669301542710871251180032333275*t + 1.0)\"), (t, 0, 100))"
   ]
  },
  {
   "cell_type": "code",
   "execution_count": null,
   "metadata": {
    "collapsed": false
   },
   "outputs": [],
   "source": [
    "rat_func"
   ]
  },
  {
   "cell_type": "code",
   "execution_count": null,
   "metadata": {
    "collapsed": false
   },
   "outputs": [],
   "source": [
    "S(\"(0.00421099590689821779984639140604*t**2 + 0.188333501989274148910007547496*t + 0.992641329830419396033230547887)/(0.572249579048364881552280260776*t**2 - 0.669301542710871251180032333275*t + 1.0)\")"
   ]
  },
  {
   "cell_type": "code",
   "execution_count": null,
   "metadata": {
    "collapsed": false
   },
   "outputs": [],
   "source": [
    "rat_func == S(\"(0.00421099590689821779984639140604*t**2 + 0.188333501989274148910007547496*t + 0.992641329830419396033230547887)/(0.572249579048364881552280260776*t**2 - 0.669301542710871251180032333275*t + 1.0)\")"
   ]
  },
  {
   "cell_type": "code",
   "execution_count": null,
   "metadata": {
    "collapsed": false
   },
   "outputs": [],
   "source": [
    "str(rat_func) == \"(0.00421099590689821779984639140604*t**2 + 0.188333501989274148910007547496*t + 0.992641329830419396033230547887)/(0.572249579048364881552280260776*t**2 - 0.669301542710871251180032333275*t + 1.0)\""
   ]
  },
  {
   "cell_type": "code",
   "execution_count": null,
   "metadata": {
    "collapsed": false
   },
   "outputs": [],
   "source": [
    "plot(rat_func)"
   ]
  },
  {
   "cell_type": "code",
   "execution_count": null,
   "metadata": {
    "collapsed": false
   },
   "outputs": [],
   "source": [
    "plot(S(\"(0.00421099590689821779984639140604*t**2 + 0.188333501989274148910007547496*t + 0.992641329830419396033230547887)/(0.572249579048364881552280260776*t**2 - 0.669301542710871251180032333275*t + 1.0)\"))"
   ]
  },
  {
   "cell_type": "code",
   "execution_count": null,
   "metadata": {
    "collapsed": true
   },
   "outputs": [],
   "source": [
    "good_rat_func = S(\"(0.00421099590689821779984639140604*t**2 + 0.188333501989274148910007547496*t + 0.992641329830419396033230547887)/(0.572249579048364881552280260776*t**2 - 0.669301542710871251180032333275*t + 1.0)\")"
   ]
  },
  {
   "cell_type": "code",
   "execution_count": null,
   "metadata": {
    "collapsed": false
   },
   "outputs": [],
   "source": [
    "plot(rat_func - exp(-t), (t, 0, 100))"
   ]
  },
  {
   "cell_type": "code",
   "execution_count": null,
   "metadata": {
    "collapsed": false
   },
   "outputs": [],
   "source": [
    "plot(good_rat_func - exp(-t), (t, 0, 100))"
   ]
  },
  {
   "cell_type": "code",
   "execution_count": null,
   "metadata": {
    "collapsed": false
   },
   "outputs": [],
   "source": [
    "plot(-exp(-t) + good_rat_func, (t, 0, 100))"
   ]
  },
  {
   "cell_type": "code",
   "execution_count": null,
   "metadata": {
    "collapsed": false
   },
   "outputs": [],
   "source": [
    "plot(-exp(-t) - S(\"(0.00421099590689821779984639140604*t**2 + 0.188333501989274148910007547496*t + 0.992641329830419396033230547887)/(0.572249579048364881552280260776*t**2 - 0.669301542710871251180032333275*t + 1.0)\"), (t, 0, 100))"
   ]
  },
  {
   "cell_type": "code",
   "execution_count": null,
   "metadata": {
    "collapsed": false
   },
   "outputs": [],
   "source": [
    "plot(-exp(-t) + S(srepr(rat_func)), (t, 0, 100))"
   ]
  },
  {
   "cell_type": "code",
   "execution_count": null,
   "metadata": {
    "collapsed": false
   },
   "outputs": [],
   "source": [
    "plot(-exp(-t) + S(str(rat_func)), (t, 0, 100))"
   ]
  },
  {
   "cell_type": "code",
   "execution_count": null,
   "metadata": {
    "collapsed": false
   },
   "outputs": [],
   "source": [
    "plot(rat_func - exp(-t), (t, 0, 100), adaptive=False, nb_of_points=1000)"
   ]
  },
  {
   "cell_type": "code",
   "execution_count": null,
   "metadata": {
    "collapsed": false
   },
   "outputs": [],
   "source": [
    "import numpy\n",
    "import matplotlib.pyplot as plt\n",
    "vals = numpy.linspace(0, 100, 1000)\n",
    "plt.plot(vals, lambdify(t, rat_func.subs(t, -t) - exp(-t), 'numpy')(vals))\n",
    "                "
   ]
  },
  {
   "cell_type": "code",
   "execution_count": 33,
   "metadata": {
    "collapsed": false
   },
   "outputs": [
    {
     "data": {
      "image/png": "[encoded data removed]",
      "text/latex": [
       "$$\\left [ \\right ]$$"
      ],
      "text/plain": [
       "[]"
      ]
     },
     "execution_count": 33,
     "metadata": {},
     "output_type": "execute_result"
    }
   ],
   "source": [
    "degree = 14\n",
    "points = [chebyshevt_root(2*(degree + 1) + 1, 2*(degree + 1) - j) for j in range(1, 2*(degree + 1) + 1)]\n",
    "[i.evalf() for i in points]\n",
    "c = symbols('c', positive=True)\n",
    "len(points)\n",
    "solve(sqrt(c*(1 + points[degree])/(1 - points[degree])*c*(1 + points[degree+1])/(1 - points[degree+1])) - c, c)\n"
   ]
  },
  {
   "cell_type": "code",
   "execution_count": 34,
   "metadata": {
    "collapsed": false
   },
   "outputs": [
    {
     "data": {
      "image/png": "[encoded data removed]",
      "text/latex": [
       "$$- c + \\frac{c \\sqrt{\\cos{\\left (\\frac{29 \\pi}{62} \\right )} + 1}}{\\sqrt{- \\cos{\\left (\\frac{29 \\pi}{62} \\right )} + 1}}$$"
      ],
      "text/plain": [
       "           _______________\n",
       "          ╱    ⎛29⋅π⎞     \n",
       "     c⋅  ╱  cos⎜────⎟ + 1 \n",
       "       ╲╱      ⎝ 62 ⎠     \n",
       "-c + ─────────────────────\n",
       "         _________________\n",
       "        ╱      ⎛29⋅π⎞     \n",
       "       ╱  - cos⎜────⎟ + 1 \n",
       "     ╲╱        ⎝ 62 ⎠     "
      ]
     },
     "execution_count": 34,
     "metadata": {},
     "output_type": "execute_result"
    }
   ],
   "source": [
    "sqrt(c*(1 + points[degree])/(1 - points[degree])*c*(1 + points[degree+1])/(1 - points[degree+1])) - c"
   ]
  },
  {
   "cell_type": "code",
   "execution_count": null,
   "metadata": {
    "collapsed": true
   },
   "outputs": [],
   "source": []
  }
 ],
 "metadata": {
  "anaconda-cloud": {},
  "kernelspec": {
   "display_name": "Python 3",
   "language": "python",
   "name": "python3"
  },
  "language_info": {
   "codemirror_mode": {
    "name": "ipython",
    "version": 3
   },
   "file_extension": ".py",
   "mimetype": "text/x-python",
   "name": "python",
   "nbconvert_exporter": "python",
   "pygments_lexer": "ipython3",
   "version": "3.5.2"
  }
 },
 "nbformat": 4,
 "nbformat_minor": 1
}
